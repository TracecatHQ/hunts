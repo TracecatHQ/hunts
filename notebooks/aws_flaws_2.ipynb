{
 "cells": [
  {
   "cell_type": "markdown",
   "id": "0459051c-822c-461b-9374-476b208b3030",
   "metadata": {},
   "source": [
    "# AWS Threat Hunting with Cloudtrail Logs\n",
    "---"
   ]
  },
  {
   "cell_type": "code",
   "execution_count": 1,
   "id": "a6e38f67-91a5-48ea-aa77-460da7ac0e34",
   "metadata": {
    "scrolled": true
   },
   "outputs": [],
   "source": [
    "import polars as pl\n",
    "import gzip\n",
    "import re\n",
    "import glob\n",
    "import orjson\n",
    "import ray\n",
    "import io"
   ]
  },
  {
   "cell_type": "code",
   "execution_count": 2,
   "id": "7334e437-bc50-4502-9506-23fd1bb5620d",
   "metadata": {
    "scrolled": true
   },
   "outputs": [
    {
     "data": {
      "text/plain": [
       "polars.config.Config"
      ]
     },
     "execution_count": 2,
     "metadata": {},
     "output_type": "execute_result"
    }
   ],
   "source": [
    "pl.Config.set_fmt_str_lengths(80)"
   ]
  },
  {
   "cell_type": "markdown",
   "id": "6cac7f28-7254-492e-84e9-81e69f82c160",
   "metadata": {},
   "source": [
    "## Load Cloudtrail logs\n",
    "Docs: https://docs.aws.amazon.com/awscloudtrail/latest/userguide/cloudtrail-read-log-files.html"
   ]
  },
  {
   "cell_type": "code",
   "execution_count": 3,
   "id": "e562ae4e-cd9a-440b-9484-a8f88c3f211b",
   "metadata": {
    "scrolled": true
   },
   "outputs": [],
   "source": [
    "@ray.remote\n",
    "def read_json(filepath: str):\n",
    "    if filepath.endswith(\".gz\"):\n",
    "        with gzip.open(filepath, \"r\") as f:\n",
    "            bytes = f.read()        \n",
    "    else:\n",
    "        with open(filepath, \"r\") as f:\n",
    "            bytes = f.read()\n",
    "    # TODO: Speed up one-level only JSON parsing\n",
    "    logs = orjson.loads(bytes)[\"Records\"]\n",
    "    logs = [{k: str(v) for k, v in log.items()} for log in logs]\n",
    "    data = pl.from_dicts(logs)\n",
    "    return data\n",
    "\n",
    "\n",
    "def read_glob_json(pattern: str):\n",
    "    batches = []\n",
    "    for filepath in glob.iglob(pattern):\n",
    "        batch = read_json.remote(filepath=filepath)\n",
    "        batches.append(batch)\n",
    "    logs = pl.concat(ray.get(batches), how=\"diagonal_relaxed\")\n",
    "    return logs"
   ]
  },
  {
   "cell_type": "code",
   "execution_count": 4,
   "id": "e2526306-c322-4510-966c-2aa15b6001f7",
   "metadata": {
    "scrolled": true
   },
   "outputs": [
    {
     "name": "stderr",
     "output_type": "stream",
     "text": [
      "2023-11-26 00:37:23,455\tINFO worker.py:1664 -- Started a local Ray instance. View the dashboard at \u001b[1m\u001b[32mhttp://127.0.0.1:8265 \u001b[39m\u001b[22m\n"
     ]
    },
    {
     "data": {
      "text/html": [
       "<div><style>\n",
       ".dataframe > thead > tr > th,\n",
       ".dataframe > tbody > tr > td {\n",
       "  text-align: right;\n",
       "  white-space: pre-wrap;\n",
       "}\n",
       "</style>\n",
       "<small>shape: (5, 21)</small><table border=\"1\" class=\"dataframe\"><thead><tr><th>eventVersion</th><th>userIdentity</th><th>eventTime</th><th>eventSource</th><th>eventName</th><th>awsRegion</th><th>sourceIPAddress</th><th>userAgent</th><th>errorCode</th><th>errorMessage</th><th>requestParameters</th><th>responseElements</th><th>requestID</th><th>eventID</th><th>eventType</th><th>recipientAccountId</th><th>additionalEventData</th><th>readOnly</th><th>resources</th><th>sharedEventID</th><th>managementEvent</th></tr><tr><td>str</td><td>str</td><td>str</td><td>str</td><td>str</td><td>str</td><td>str</td><td>str</td><td>str</td><td>str</td><td>str</td><td>str</td><td>str</td><td>str</td><td>str</td><td>str</td><td>str</td><td>str</td><td>str</td><td>str</td><td>str</td></tr></thead><tbody><tr><td>&quot;1.04&quot;</td><td>&quot;{&#x27;type&#x27;: &#x27;AssumedRole&#x27;, &#x27;principalId&#x27;: &#x27;AROAIBATWWYQXZTTALNCE:level1&#x27;, &#x27;arn&#x27;: &#x27;…</td><td>&quot;2018-11-28T23:03:12Z&quot;</td><td>&quot;logs.amazonaws.com&quot;</td><td>&quot;CreateLogStream&quot;</td><td>&quot;us-east-1&quot;</td><td>&quot;34.234.236.212&quot;</td><td>&quot;awslambda-worker&quot;</td><td>&quot;AccessDenied&quot;</td><td>&quot;User: arn:aws:sts::653711331788:assumed-role/level1/level1 is not authorized to…</td><td>&quot;None&quot;</td><td>&quot;None&quot;</td><td>&quot;c80afb02-f361-11e8-b660-f9fa07f60344&quot;</td><td>&quot;77b02a51-70c8-465b-94df-579c1fe42a5c&quot;</td><td>&quot;AwsApiCall&quot;</td><td>&quot;653711331788&quot;</td><td>null</td><td>null</td><td>null</td><td>null</td><td>null</td></tr><tr><td>&quot;1.05&quot;</td><td>&quot;{&#x27;type&#x27;: &#x27;AWSAccount&#x27;, &#x27;principalId&#x27;: &#x27;&#x27;, &#x27;accountId&#x27;: &#x27;ANONYMOUS_PRINCIPAL&#x27;}&quot;</td><td>&quot;2018-11-28T23:09:36Z&quot;</td><td>&quot;s3.amazonaws.com&quot;</td><td>&quot;GetObject&quot;</td><td>&quot;us-east-1&quot;</td><td>&quot;104.102.221.250&quot;</td><td>&quot;[Mozilla/5.0 (Macintosh; Intel Mac OS X 10_13_6) AppleWebKit/537.36 (KHTML, lik…</td><td>null</td><td>null</td><td>&quot;{&#x27;bucketName&#x27;: &#x27;the-end-962b72bjahfm5b4wcktm8t9z4sapemjb.flaws2.cloud&#x27;, &#x27;key&#x27;: …</td><td>&quot;None&quot;</td><td>&quot;EDFBFC9CE11E755F&quot;</td><td>&quot;ea33682d-0829-40c1-9820-bd721b9aede8&quot;</td><td>&quot;AwsApiCall&quot;</td><td>&quot;653711331788&quot;</td><td>&quot;{&#x27;x-amz-id-2&#x27;: &#x27;AeawUxLi2duvWcRYWMuVYUmtCkBuOvHaktUvODIORlnw+U6VbswU9FfeOAEDq9k…</td><td>&quot;True&quot;</td><td>&quot;[{&#x27;type&#x27;: &#x27;AWS::S3::Object&#x27;, &#x27;ARN&#x27;: &#x27;arn:aws:s3:::the-end-962b72bjahfm5b4wcktm8…</td><td>&quot;a59b4ac8-6a51-44ff-ab76-e66f75bd95ce&quot;</td><td>null</td></tr><tr><td>&quot;1.05&quot;</td><td>&quot;{&#x27;type&#x27;: &#x27;AWSAccount&#x27;, &#x27;principalId&#x27;: &#x27;&#x27;, &#x27;accountId&#x27;: &#x27;ANONYMOUS_PRINCIPAL&#x27;}&quot;</td><td>&quot;2018-11-28T23:09:36Z&quot;</td><td>&quot;s3.amazonaws.com&quot;</td><td>&quot;GetObject&quot;</td><td>&quot;us-east-1&quot;</td><td>&quot;104.102.221.250&quot;</td><td>&quot;[Mozilla/5.0 (Macintosh; Intel Mac OS X 10_13_6) AppleWebKit/537.36 (KHTML, lik…</td><td>null</td><td>null</td><td>&quot;{&#x27;bucketName&#x27;: &#x27;the-end-962b72bjahfm5b4wcktm8t9z4sapemjb.flaws2.cloud&#x27;, &#x27;key&#x27;: …</td><td>&quot;None&quot;</td><td>&quot;9880010F3D39F3AC&quot;</td><td>&quot;dee6f6a3-f18a-40db-a6fd-b96d05502266&quot;</td><td>&quot;AwsApiCall&quot;</td><td>&quot;653711331788&quot;</td><td>&quot;{&#x27;x-amz-id-2&#x27;: &#x27;tLMpJDK15z1teLvIzReA3N4IMnNATUrOrGfoPS0kxZ27SPTRVbxUtdmmucw3XfE…</td><td>&quot;True&quot;</td><td>&quot;[{&#x27;type&#x27;: &#x27;AWS::S3::Object&#x27;, &#x27;ARN&#x27;: &#x27;arn:aws:s3:::the-end-962b72bjahfm5b4wcktm8…</td><td>&quot;f8c6cdc8-6ec1-4e14-9a0e-f300b16e282e&quot;</td><td>null</td></tr><tr><td>&quot;1.04&quot;</td><td>&quot;{&#x27;type&#x27;: &#x27;AssumedRole&#x27;, &#x27;principalId&#x27;: &#x27;AROAIBATWWYQXZTTALNCE:level1&#x27;, &#x27;arn&#x27;: &#x27;…</td><td>&quot;2018-11-28T23:06:17Z&quot;</td><td>&quot;ecr.amazonaws.com&quot;</td><td>&quot;BatchGetImage&quot;</td><td>&quot;us-east-1&quot;</td><td>&quot;104.102.221.250&quot;</td><td>&quot;aws-cli/1.16.19 Python/2.7.10 Darwin/17.7.0 botocore/1.12.9&quot;</td><td>null</td><td>null</td><td>&quot;{&#x27;imageIds&#x27;: [{&#x27;imageTag&#x27;: &#x27;latest&#x27;}], &#x27;repositoryName&#x27;: &#x27;level2&#x27;, &#x27;registryId&#x27;…</td><td>&quot;None&quot;</td><td>&quot;35ea9256-f362-11e8-86cf-35c48074ab0a&quot;</td><td>&quot;b2867f3e-810c-47d1-9657-edb886e03fe6&quot;</td><td>&quot;AwsApiCall&quot;</td><td>&quot;653711331788&quot;</td><td>null</td><td>null</td><td>&quot;[{&#x27;ARN&#x27;: &#x27;arn:aws:ecr:us-east-1:653711331788:repository/level2&#x27;, &#x27;accountId&#x27;: &#x27;…</td><td>null</td><td>null</td></tr><tr><td>&quot;1.04&quot;</td><td>&quot;{&#x27;type&#x27;: &#x27;AssumedRole&#x27;, &#x27;principalId&#x27;: &#x27;AROAIBATWWYQXZTTALNCE:level1&#x27;, &#x27;arn&#x27;: &#x27;…</td><td>&quot;2018-11-28T23:06:33Z&quot;</td><td>&quot;ecr.amazonaws.com&quot;</td><td>&quot;GetDownloadUrlForLayer&quot;</td><td>&quot;us-east-1&quot;</td><td>&quot;104.102.221.250&quot;</td><td>&quot;aws-cli/1.16.19 Python/2.7.10 Darwin/17.7.0 botocore/1.12.9&quot;</td><td>null</td><td>null</td><td>&quot;{&#x27;layerDigest&#x27;: &#x27;sha256:2d73de35b78103fa305bd941424443d520524a050b1e0c78c488646…</td><td>&quot;None&quot;</td><td>&quot;3f96ec7f-f362-11e8-bf5d-3380094c69db&quot;</td><td>&quot;ff4c72f3-4fbd-45d4-9ee3-3834a78f53de&quot;</td><td>&quot;AwsApiCall&quot;</td><td>&quot;653711331788&quot;</td><td>null</td><td>null</td><td>&quot;[{&#x27;ARN&#x27;: &#x27;arn:aws:ecr:us-east-1:653711331788:repository/level2&#x27;, &#x27;accountId&#x27;: &#x27;…</td><td>null</td><td>null</td></tr></tbody></table></div>"
      ],
      "text/plain": [
       "shape: (5, 21)\n",
       "┌───────────┬───────────┬───────────┬───────────┬───┬──────────┬───────────┬───────────┬───────────┐\n",
       "│ eventVers ┆ userIdent ┆ eventTime ┆ eventSour ┆ … ┆ readOnly ┆ resources ┆ sharedEve ┆ managemen │\n",
       "│ ion       ┆ ity       ┆ ---       ┆ ce        ┆   ┆ ---      ┆ ---       ┆ ntID      ┆ tEvent    │\n",
       "│ ---       ┆ ---       ┆ str       ┆ ---       ┆   ┆ str      ┆ str       ┆ ---       ┆ ---       │\n",
       "│ str       ┆ str       ┆           ┆ str       ┆   ┆          ┆           ┆ str       ┆ str       │\n",
       "╞═══════════╪═══════════╪═══════════╪═══════════╪═══╪══════════╪═══════════╪═══════════╪═══════════╡\n",
       "│ 1.04      ┆ {'type':  ┆ 2018-11-2 ┆ logs.amaz ┆ … ┆ null     ┆ null      ┆ null      ┆ null      │\n",
       "│           ┆ 'AssumedR ┆ 8T23:03:1 ┆ onaws.com ┆   ┆          ┆           ┆           ┆           │\n",
       "│           ┆ ole', 'pr ┆ 2Z        ┆           ┆   ┆          ┆           ┆           ┆           │\n",
       "│           ┆ incipalId ┆           ┆           ┆   ┆          ┆           ┆           ┆           │\n",
       "│           ┆ ': 'AROAI ┆           ┆           ┆   ┆          ┆           ┆           ┆           │\n",
       "│           ┆ BATWWYQXZ ┆           ┆           ┆   ┆          ┆           ┆           ┆           │\n",
       "│           ┆ TTALNCE:l ┆           ┆           ┆   ┆          ┆           ┆           ┆           │\n",
       "│           ┆ evel1',   ┆           ┆           ┆   ┆          ┆           ┆           ┆           │\n",
       "│           ┆ 'arn':    ┆           ┆           ┆   ┆          ┆           ┆           ┆           │\n",
       "│           ┆ 'a…       ┆           ┆           ┆   ┆          ┆           ┆           ┆           │\n",
       "│ 1.05      ┆ {'type':  ┆ 2018-11-2 ┆ s3.amazon ┆ … ┆ True     ┆ [{'type': ┆ a59b4ac8- ┆ null      │\n",
       "│           ┆ 'AWSAccou ┆ 8T23:09:3 ┆ aws.com   ┆   ┆          ┆ 'AWS::S3: ┆ 6a51-44ff ┆           │\n",
       "│           ┆ nt', 'pri ┆ 6Z        ┆           ┆   ┆          ┆ :Object', ┆ -ab76-e66 ┆           │\n",
       "│           ┆ ncipalId' ┆           ┆           ┆   ┆          ┆ 'ARN':    ┆ f75bd95ce ┆           │\n",
       "│           ┆ : '', 'ac ┆           ┆           ┆   ┆          ┆ 'arn:aws: ┆           ┆           │\n",
       "│           ┆ countId': ┆           ┆           ┆   ┆          ┆ s3:::the- ┆           ┆           │\n",
       "│           ┆ 'ANONYMOU ┆           ┆           ┆   ┆          ┆ end-962b7 ┆           ┆           │\n",
       "│           ┆ S_PRINCIP ┆           ┆           ┆   ┆          ┆ 2bjahfm5b ┆           ┆           │\n",
       "│           ┆ AL'}      ┆           ┆           ┆   ┆          ┆ 4wcktm8t… ┆           ┆           │\n",
       "│ 1.05      ┆ {'type':  ┆ 2018-11-2 ┆ s3.amazon ┆ … ┆ True     ┆ [{'type': ┆ f8c6cdc8- ┆ null      │\n",
       "│           ┆ 'AWSAccou ┆ 8T23:09:3 ┆ aws.com   ┆   ┆          ┆ 'AWS::S3: ┆ 6ec1-4e14 ┆           │\n",
       "│           ┆ nt', 'pri ┆ 6Z        ┆           ┆   ┆          ┆ :Object', ┆ -9a0e-f30 ┆           │\n",
       "│           ┆ ncipalId' ┆           ┆           ┆   ┆          ┆ 'ARN':    ┆ 0b16e282e ┆           │\n",
       "│           ┆ : '', 'ac ┆           ┆           ┆   ┆          ┆ 'arn:aws: ┆           ┆           │\n",
       "│           ┆ countId': ┆           ┆           ┆   ┆          ┆ s3:::the- ┆           ┆           │\n",
       "│           ┆ 'ANONYMOU ┆           ┆           ┆   ┆          ┆ end-962b7 ┆           ┆           │\n",
       "│           ┆ S_PRINCIP ┆           ┆           ┆   ┆          ┆ 2bjahfm5b ┆           ┆           │\n",
       "│           ┆ AL'}      ┆           ┆           ┆   ┆          ┆ 4wcktm8t… ┆           ┆           │\n",
       "│ 1.04      ┆ {'type':  ┆ 2018-11-2 ┆ ecr.amazo ┆ … ┆ null     ┆ [{'ARN':  ┆ null      ┆ null      │\n",
       "│           ┆ 'AssumedR ┆ 8T23:06:1 ┆ naws.com  ┆   ┆          ┆ 'arn:aws: ┆           ┆           │\n",
       "│           ┆ ole', 'pr ┆ 7Z        ┆           ┆   ┆          ┆ ecr:us-ea ┆           ┆           │\n",
       "│           ┆ incipalId ┆           ┆           ┆   ┆          ┆ st-1:6537 ┆           ┆           │\n",
       "│           ┆ ': 'AROAI ┆           ┆           ┆   ┆          ┆ 11331788: ┆           ┆           │\n",
       "│           ┆ BATWWYQXZ ┆           ┆           ┆   ┆          ┆ repositor ┆           ┆           │\n",
       "│           ┆ TTALNCE:l ┆           ┆           ┆   ┆          ┆ y/level2' ┆           ┆           │\n",
       "│           ┆ evel1',   ┆           ┆           ┆   ┆          ┆ , 'accoun ┆           ┆           │\n",
       "│           ┆ 'arn':    ┆           ┆           ┆   ┆          ┆ tId': '6… ┆           ┆           │\n",
       "│           ┆ 'a…       ┆           ┆           ┆   ┆          ┆           ┆           ┆           │\n",
       "│ 1.04      ┆ {'type':  ┆ 2018-11-2 ┆ ecr.amazo ┆ … ┆ null     ┆ [{'ARN':  ┆ null      ┆ null      │\n",
       "│           ┆ 'AssumedR ┆ 8T23:06:3 ┆ naws.com  ┆   ┆          ┆ 'arn:aws: ┆           ┆           │\n",
       "│           ┆ ole', 'pr ┆ 3Z        ┆           ┆   ┆          ┆ ecr:us-ea ┆           ┆           │\n",
       "│           ┆ incipalId ┆           ┆           ┆   ┆          ┆ st-1:6537 ┆           ┆           │\n",
       "│           ┆ ': 'AROAI ┆           ┆           ┆   ┆          ┆ 11331788: ┆           ┆           │\n",
       "│           ┆ BATWWYQXZ ┆           ┆           ┆   ┆          ┆ repositor ┆           ┆           │\n",
       "│           ┆ TTALNCE:l ┆           ┆           ┆   ┆          ┆ y/level2' ┆           ┆           │\n",
       "│           ┆ evel1',   ┆           ┆           ┆   ┆          ┆ , 'accoun ┆           ┆           │\n",
       "│           ┆ 'arn':    ┆           ┆           ┆   ┆          ┆ tId': '6… ┆           ┆           │\n",
       "│           ┆ 'a…       ┆           ┆           ┆   ┆          ┆           ┆           ┆           │\n",
       "└───────────┴───────────┴───────────┴───────────┴───┴──────────┴───────────┴───────────┴───────────┘"
      ]
     },
     "execution_count": 4,
     "metadata": {},
     "output_type": "execute_result"
    }
   ],
   "source": [
    "logs = read_glob_json(\"../data/flaws_2/*.json.gz\")\n",
    "logs.head(5)"
   ]
  },
  {
   "cell_type": "markdown",
   "id": "50db6765-00a8-4676-8f25-929533d25ade",
   "metadata": {},
   "source": [
    "## Log Normalization\n",
    "\n",
    "- In a previous query, we note that `sourceIPAddress` has no nulls but `arn` does\n",
    "- So in absence of `arn`, we should fill null with `sourceIPAddress` (suffixed with \"source_ip:\")\n",
    "\n",
    "**Operations:**\n",
    "- Reorganize columns into entity, time panel format\n",
    "- Make all JSON strings JSONPath parsable: replace `'` (single quote) with `\"` (double quote):\n",
    "  - `userIdentity`\n",
    "  - `requestParameters`\n",
    "  - `responseElements`\n",
    "  - `additionalEventData`\n",
    "  - `resources`\n",
    "- Extract `arn` from `UserIdentity`\n",
    "- Convert time column into datetime\n",
    "- Create integer index per entity column\n",
    "- Create window column\n",
    "- Create `entity_id` column with `arn` if `arn` is not null else `sourceIPAddress`"
   ]
  },
  {
   "cell_type": "code",
   "execution_count": 13,
   "id": "242bd882-f15e-4397-a34a-3d39b08f988b",
   "metadata": {},
   "outputs": [
    {
     "data": {
      "text/html": [
       "<div><style>\n",
       ".dataframe > thead > tr > th,\n",
       ".dataframe > tbody > tr > td {\n",
       "  text-align: right;\n",
       "  white-space: pre-wrap;\n",
       "}\n",
       "</style>\n",
       "<small>shape: (5, 23)</small><table border=\"1\" class=\"dataframe\"><thead><tr><th>eventVersion</th><th>userIdentity</th><th>eventTime</th><th>eventSource</th><th>eventName</th><th>awsRegion</th><th>sourceIPAddress</th><th>userAgent</th><th>errorCode</th><th>errorMessage</th><th>requestParameters</th><th>responseElements</th><th>requestID</th><th>eventID</th><th>eventType</th><th>recipientAccountId</th><th>additionalEventData</th><th>readOnly</th><th>resources</th><th>sharedEventID</th><th>managementEvent</th><th>arn</th><th>entity_id</th></tr><tr><td>str</td><td>str</td><td>datetime[μs, UTC]</td><td>str</td><td>str</td><td>str</td><td>str</td><td>str</td><td>str</td><td>str</td><td>str</td><td>str</td><td>str</td><td>str</td><td>str</td><td>str</td><td>str</td><td>str</td><td>str</td><td>str</td><td>str</td><td>str</td><td>str</td></tr></thead><tbody><tr><td>&quot;1.04&quot;</td><td>&quot;{&quot;type&quot;: &quot;AssumedRole&quot;, &quot;principalId&quot;: &quot;AROAIBATWWYQXZTTALNCE:level1&quot;, &quot;arn&quot;: &quot;…</td><td>2018-11-28 23:03:12 UTC</td><td>&quot;logs.amazonaws.com&quot;</td><td>&quot;CreateLogStream&quot;</td><td>&quot;us-east-1&quot;</td><td>&quot;34.234.236.212&quot;</td><td>&quot;awslambda-worker&quot;</td><td>&quot;AccessDenied&quot;</td><td>&quot;User: arn:aws:sts::653711331788:assumed-role/level1/level1 is not authorized to…</td><td>&quot;None&quot;</td><td>&quot;None&quot;</td><td>&quot;c80afb02-f361-11e8-b660-f9fa07f60344&quot;</td><td>&quot;77b02a51-70c8-465b-94df-579c1fe42a5c&quot;</td><td>&quot;AwsApiCall&quot;</td><td>&quot;653711331788&quot;</td><td>null</td><td>null</td><td>null</td><td>null</td><td>null</td><td>&quot;arn:aws:sts::653711331788:assumed-role/level1/level1&quot;</td><td>&quot;arn:aws:sts::653711331788:assumed-role/level1/level1&quot;</td></tr><tr><td>&quot;1.05&quot;</td><td>&quot;{&quot;type&quot;: &quot;AWSAccount&quot;, &quot;principalId&quot;: &quot;&quot;, &quot;accountId&quot;: &quot;ANONYMOUS_PRINCIPAL&quot;}&quot;</td><td>2018-11-28 23:09:36 UTC</td><td>&quot;s3.amazonaws.com&quot;</td><td>&quot;GetObject&quot;</td><td>&quot;us-east-1&quot;</td><td>&quot;104.102.221.250&quot;</td><td>&quot;[Mozilla/5.0 (Macintosh; Intel Mac OS X 10_13_6) AppleWebKit/537.36 (KHTML, lik…</td><td>null</td><td>null</td><td>&quot;{&quot;bucketName&quot;: &quot;the-end-962b72bjahfm5b4wcktm8t9z4sapemjb.flaws2.cloud&quot;, &quot;key&quot;: …</td><td>&quot;None&quot;</td><td>&quot;EDFBFC9CE11E755F&quot;</td><td>&quot;ea33682d-0829-40c1-9820-bd721b9aede8&quot;</td><td>&quot;AwsApiCall&quot;</td><td>&quot;653711331788&quot;</td><td>&quot;{&quot;x-amz-id-2&quot;: &quot;AeawUxLi2duvWcRYWMuVYUmtCkBuOvHaktUvODIORlnw+U6VbswU9FfeOAEDq9k…</td><td>&quot;True&quot;</td><td>&quot;[{&quot;type&quot;: &quot;AWS::S3::Object&quot;, &quot;ARN&quot;: &quot;arn:aws:s3:::the-end-962b72bjahfm5b4wcktm8…</td><td>&quot;a59b4ac8-6a51-44ff-ab76-e66f75bd95ce&quot;</td><td>null</td><td>null</td><td>&quot;source_ip:104.102.221.250&quot;</td></tr><tr><td>&quot;1.05&quot;</td><td>&quot;{&quot;type&quot;: &quot;AWSAccount&quot;, &quot;principalId&quot;: &quot;&quot;, &quot;accountId&quot;: &quot;ANONYMOUS_PRINCIPAL&quot;}&quot;</td><td>2018-11-28 23:09:36 UTC</td><td>&quot;s3.amazonaws.com&quot;</td><td>&quot;GetObject&quot;</td><td>&quot;us-east-1&quot;</td><td>&quot;104.102.221.250&quot;</td><td>&quot;[Mozilla/5.0 (Macintosh; Intel Mac OS X 10_13_6) AppleWebKit/537.36 (KHTML, lik…</td><td>null</td><td>null</td><td>&quot;{&quot;bucketName&quot;: &quot;the-end-962b72bjahfm5b4wcktm8t9z4sapemjb.flaws2.cloud&quot;, &quot;key&quot;: …</td><td>&quot;None&quot;</td><td>&quot;9880010F3D39F3AC&quot;</td><td>&quot;dee6f6a3-f18a-40db-a6fd-b96d05502266&quot;</td><td>&quot;AwsApiCall&quot;</td><td>&quot;653711331788&quot;</td><td>&quot;{&quot;x-amz-id-2&quot;: &quot;tLMpJDK15z1teLvIzReA3N4IMnNATUrOrGfoPS0kxZ27SPTRVbxUtdmmucw3XfE…</td><td>&quot;True&quot;</td><td>&quot;[{&quot;type&quot;: &quot;AWS::S3::Object&quot;, &quot;ARN&quot;: &quot;arn:aws:s3:::the-end-962b72bjahfm5b4wcktm8…</td><td>&quot;f8c6cdc8-6ec1-4e14-9a0e-f300b16e282e&quot;</td><td>null</td><td>null</td><td>&quot;source_ip:104.102.221.250&quot;</td></tr><tr><td>&quot;1.04&quot;</td><td>&quot;{&quot;type&quot;: &quot;AssumedRole&quot;, &quot;principalId&quot;: &quot;AROAIBATWWYQXZTTALNCE:level1&quot;, &quot;arn&quot;: &quot;…</td><td>2018-11-28 23:06:17 UTC</td><td>&quot;ecr.amazonaws.com&quot;</td><td>&quot;BatchGetImage&quot;</td><td>&quot;us-east-1&quot;</td><td>&quot;104.102.221.250&quot;</td><td>&quot;aws-cli/1.16.19 Python/2.7.10 Darwin/17.7.0 botocore/1.12.9&quot;</td><td>null</td><td>null</td><td>&quot;{&quot;imageIds&quot;: [{&quot;imageTag&quot;: &quot;latest&quot;}], &quot;repositoryName&quot;: &quot;level2&quot;, &quot;registryId&quot;…</td><td>&quot;None&quot;</td><td>&quot;35ea9256-f362-11e8-86cf-35c48074ab0a&quot;</td><td>&quot;b2867f3e-810c-47d1-9657-edb886e03fe6&quot;</td><td>&quot;AwsApiCall&quot;</td><td>&quot;653711331788&quot;</td><td>null</td><td>null</td><td>&quot;[{&quot;ARN&quot;: &quot;arn:aws:ecr:us-east-1:653711331788:repository/level2&quot;, &quot;accountId&quot;: &quot;…</td><td>null</td><td>null</td><td>&quot;arn:aws:sts::653711331788:assumed-role/level1/level1&quot;</td><td>&quot;arn:aws:sts::653711331788:assumed-role/level1/level1&quot;</td></tr><tr><td>&quot;1.04&quot;</td><td>&quot;{&quot;type&quot;: &quot;AssumedRole&quot;, &quot;principalId&quot;: &quot;AROAIBATWWYQXZTTALNCE:level1&quot;, &quot;arn&quot;: &quot;…</td><td>2018-11-28 23:06:33 UTC</td><td>&quot;ecr.amazonaws.com&quot;</td><td>&quot;GetDownloadUrlForLayer&quot;</td><td>&quot;us-east-1&quot;</td><td>&quot;104.102.221.250&quot;</td><td>&quot;aws-cli/1.16.19 Python/2.7.10 Darwin/17.7.0 botocore/1.12.9&quot;</td><td>null</td><td>null</td><td>&quot;{&quot;layerDigest&quot;: &quot;sha256:2d73de35b78103fa305bd941424443d520524a050b1e0c78c488646…</td><td>&quot;None&quot;</td><td>&quot;3f96ec7f-f362-11e8-bf5d-3380094c69db&quot;</td><td>&quot;ff4c72f3-4fbd-45d4-9ee3-3834a78f53de&quot;</td><td>&quot;AwsApiCall&quot;</td><td>&quot;653711331788&quot;</td><td>null</td><td>null</td><td>&quot;[{&quot;ARN&quot;: &quot;arn:aws:ecr:us-east-1:653711331788:repository/level2&quot;, &quot;accountId&quot;: &quot;…</td><td>null</td><td>null</td><td>&quot;arn:aws:sts::653711331788:assumed-role/level1/level1&quot;</td><td>&quot;arn:aws:sts::653711331788:assumed-role/level1/level1&quot;</td></tr></tbody></table></div>"
      ],
      "text/plain": [
       "shape: (5, 23)\n",
       "┌───────────┬───────────┬───────────┬───────────┬───┬───────────┬───────────┬───────────┬──────────┐\n",
       "│ eventVers ┆ userIdent ┆ eventTime ┆ eventSour ┆ … ┆ sharedEve ┆ managemen ┆ arn       ┆ entity_i │\n",
       "│ ion       ┆ ity       ┆ ---       ┆ ce        ┆   ┆ ntID      ┆ tEvent    ┆ ---       ┆ d        │\n",
       "│ ---       ┆ ---       ┆ datetime[ ┆ ---       ┆   ┆ ---       ┆ ---       ┆ str       ┆ ---      │\n",
       "│ str       ┆ str       ┆ μs, UTC]  ┆ str       ┆   ┆ str       ┆ str       ┆           ┆ str      │\n",
       "╞═══════════╪═══════════╪═══════════╪═══════════╪═══╪═══════════╪═══════════╪═══════════╪══════════╡\n",
       "│ 1.04      ┆ {\"type\":  ┆ 2018-11-2 ┆ logs.amaz ┆ … ┆ null      ┆ null      ┆ arn:aws:s ┆ arn:aws: │\n",
       "│           ┆ \"AssumedR ┆ 8         ┆ onaws.com ┆   ┆           ┆           ┆ ts::65371 ┆ sts::653 │\n",
       "│           ┆ ole\", \"pr ┆ 23:03:12  ┆           ┆   ┆           ┆           ┆ 1331788:a ┆ 71133178 │\n",
       "│           ┆ incipalId ┆ UTC       ┆           ┆   ┆           ┆           ┆ ssumed-ro ┆ 8:assume │\n",
       "│           ┆ \": \"AROAI ┆           ┆           ┆   ┆           ┆           ┆ le/level1 ┆ d-role/l │\n",
       "│           ┆ BATWWYQXZ ┆           ┆           ┆   ┆           ┆           ┆ /level1   ┆ evel1/le │\n",
       "│           ┆ TTALNCE:l ┆           ┆           ┆   ┆           ┆           ┆           ┆ vel1     │\n",
       "│           ┆ evel1\",   ┆           ┆           ┆   ┆           ┆           ┆           ┆          │\n",
       "│           ┆ \"arn\":    ┆           ┆           ┆   ┆           ┆           ┆           ┆          │\n",
       "│           ┆ \"a…       ┆           ┆           ┆   ┆           ┆           ┆           ┆          │\n",
       "│ 1.05      ┆ {\"type\":  ┆ 2018-11-2 ┆ s3.amazon ┆ … ┆ a59b4ac8- ┆ null      ┆ null      ┆ source_i │\n",
       "│           ┆ \"AWSAccou ┆ 8         ┆ aws.com   ┆   ┆ 6a51-44ff ┆           ┆           ┆ p:104.10 │\n",
       "│           ┆ nt\", \"pri ┆ 23:09:36  ┆           ┆   ┆ -ab76-e66 ┆           ┆           ┆ 2.221.25 │\n",
       "│           ┆ ncipalId\" ┆ UTC       ┆           ┆   ┆ f75bd95ce ┆           ┆           ┆ 0        │\n",
       "│           ┆ : \"\", \"ac ┆           ┆           ┆   ┆           ┆           ┆           ┆          │\n",
       "│           ┆ countId\": ┆           ┆           ┆   ┆           ┆           ┆           ┆          │\n",
       "│           ┆ \"ANONYMOU ┆           ┆           ┆   ┆           ┆           ┆           ┆          │\n",
       "│           ┆ S_PRINCIP ┆           ┆           ┆   ┆           ┆           ┆           ┆          │\n",
       "│           ┆ AL\"}      ┆           ┆           ┆   ┆           ┆           ┆           ┆          │\n",
       "│ 1.05      ┆ {\"type\":  ┆ 2018-11-2 ┆ s3.amazon ┆ … ┆ f8c6cdc8- ┆ null      ┆ null      ┆ source_i │\n",
       "│           ┆ \"AWSAccou ┆ 8         ┆ aws.com   ┆   ┆ 6ec1-4e14 ┆           ┆           ┆ p:104.10 │\n",
       "│           ┆ nt\", \"pri ┆ 23:09:36  ┆           ┆   ┆ -9a0e-f30 ┆           ┆           ┆ 2.221.25 │\n",
       "│           ┆ ncipalId\" ┆ UTC       ┆           ┆   ┆ 0b16e282e ┆           ┆           ┆ 0        │\n",
       "│           ┆ : \"\", \"ac ┆           ┆           ┆   ┆           ┆           ┆           ┆          │\n",
       "│           ┆ countId\": ┆           ┆           ┆   ┆           ┆           ┆           ┆          │\n",
       "│           ┆ \"ANONYMOU ┆           ┆           ┆   ┆           ┆           ┆           ┆          │\n",
       "│           ┆ S_PRINCIP ┆           ┆           ┆   ┆           ┆           ┆           ┆          │\n",
       "│           ┆ AL\"}      ┆           ┆           ┆   ┆           ┆           ┆           ┆          │\n",
       "│ 1.04      ┆ {\"type\":  ┆ 2018-11-2 ┆ ecr.amazo ┆ … ┆ null      ┆ null      ┆ arn:aws:s ┆ arn:aws: │\n",
       "│           ┆ \"AssumedR ┆ 8         ┆ naws.com  ┆   ┆           ┆           ┆ ts::65371 ┆ sts::653 │\n",
       "│           ┆ ole\", \"pr ┆ 23:06:17  ┆           ┆   ┆           ┆           ┆ 1331788:a ┆ 71133178 │\n",
       "│           ┆ incipalId ┆ UTC       ┆           ┆   ┆           ┆           ┆ ssumed-ro ┆ 8:assume │\n",
       "│           ┆ \": \"AROAI ┆           ┆           ┆   ┆           ┆           ┆ le/level1 ┆ d-role/l │\n",
       "│           ┆ BATWWYQXZ ┆           ┆           ┆   ┆           ┆           ┆ /level1   ┆ evel1/le │\n",
       "│           ┆ TTALNCE:l ┆           ┆           ┆   ┆           ┆           ┆           ┆ vel1     │\n",
       "│           ┆ evel1\",   ┆           ┆           ┆   ┆           ┆           ┆           ┆          │\n",
       "│           ┆ \"arn\":    ┆           ┆           ┆   ┆           ┆           ┆           ┆          │\n",
       "│           ┆ \"a…       ┆           ┆           ┆   ┆           ┆           ┆           ┆          │\n",
       "│ 1.04      ┆ {\"type\":  ┆ 2018-11-2 ┆ ecr.amazo ┆ … ┆ null      ┆ null      ┆ arn:aws:s ┆ arn:aws: │\n",
       "│           ┆ \"AssumedR ┆ 8         ┆ naws.com  ┆   ┆           ┆           ┆ ts::65371 ┆ sts::653 │\n",
       "│           ┆ ole\", \"pr ┆ 23:06:33  ┆           ┆   ┆           ┆           ┆ 1331788:a ┆ 71133178 │\n",
       "│           ┆ incipalId ┆ UTC       ┆           ┆   ┆           ┆           ┆ ssumed-ro ┆ 8:assume │\n",
       "│           ┆ \": \"AROAI ┆           ┆           ┆   ┆           ┆           ┆ le/level1 ┆ d-role/l │\n",
       "│           ┆ BATWWYQXZ ┆           ┆           ┆   ┆           ┆           ┆ /level1   ┆ evel1/le │\n",
       "│           ┆ TTALNCE:l ┆           ┆           ┆   ┆           ┆           ┆           ┆ vel1     │\n",
       "│           ┆ evel1\",   ┆           ┆           ┆   ┆           ┆           ┆           ┆          │\n",
       "│           ┆ \"arn\":    ┆           ┆           ┆   ┆           ┆           ┆           ┆          │\n",
       "│           ┆ \"a…       ┆           ┆           ┆   ┆           ┆           ┆           ┆          │\n",
       "└───────────┴───────────┴───────────┴───────────┴───┴───────────┴───────────┴───────────┴──────────┘"
      ]
     },
     "execution_count": 13,
     "metadata": {},
     "output_type": "execute_result"
    }
   ],
   "source": [
    "json_fields = [\n",
    "    \"userIdentity\",\n",
    "    \"requestParameters\",\n",
    "    \"responseElements\",\n",
    "    \"additionalEventData\",\n",
    "    \"resources\"\n",
    "]\n",
    "logs_with_ids = (\n",
    "    logs.lazy()\n",
    "    # Prepare panel format\n",
    "    .with_columns(\n",
    "        pl.col(\"eventTime\").str.to_datetime(),\n",
    "        pl.col(json_fields).str.replace_all(\"'\", '\"')\n",
    "    )\n",
    "    # Unpack identity information from userIdentity JSON\n",
    "    .with_columns(pl.col(\"userIdentity\").str.json_path_match(\"$.arn\").alias(\"arn\"))\n",
    "    # Create non-null \"entity_id\"\n",
    "    .with_columns(\n",
    "        pl.col(\"arn\").fill_null(\"source_ip:\" + pl.col(\"sourceIPAddress\")).alias(\"entity_id\")\n",
    "    )\n",
    "    .collect(streaming=True)\n",
    ")\n",
    "logs_with_ids.head()"
   ]
  },
  {
   "cell_type": "markdown",
   "id": "270e4073-24fc-4c85-b0c1-3792480500d3",
   "metadata": {},
   "source": [
    "### Side Quest: Investigate logs without an ARN\n",
    "- Approximately 72% of logs don't have an associated ARN"
   ]
  },
  {
   "cell_type": "code",
   "execution_count": 10,
   "id": "fc25f78e-89f2-4e8d-959c-1f1c6cb27fbc",
   "metadata": {
    "scrolled": true
   },
   "outputs": [
    {
     "name": "stdout",
     "output_type": "stream",
     "text": [
      "0.7297297297297297\n",
      "shape: (27, 4)\n",
      "┌────────────┬─────────────┬─────────────────────┬─────────────────────────┐\n",
      "│ type       ┆ principalId ┆ accountId           ┆ invokedBy               │\n",
      "│ ---        ┆ ---         ┆ ---                 ┆ ---                     │\n",
      "│ str        ┆ str         ┆ str                 ┆ str                     │\n",
      "╞════════════╪═════════════╪═════════════════════╪═════════════════════════╡\n",
      "│ AWSAccount ┆             ┆ ANONYMOUS_PRINCIPAL ┆ null                    │\n",
      "│ AWSAccount ┆             ┆ ANONYMOUS_PRINCIPAL ┆ null                    │\n",
      "│ AWSService ┆ null        ┆ null                ┆ ecs-tasks.amazonaws.com │\n",
      "│ AWSService ┆ null        ┆ null                ┆ ecs-tasks.amazonaws.com │\n",
      "│ …          ┆ …           ┆ …                   ┆ …                       │\n",
      "│ AWSAccount ┆             ┆ ANONYMOUS_PRINCIPAL ┆ null                    │\n",
      "│ AWSAccount ┆             ┆ ANONYMOUS_PRINCIPAL ┆ null                    │\n",
      "│ AWSAccount ┆             ┆ ANONYMOUS_PRINCIPAL ┆ null                    │\n",
      "│ AWSAccount ┆             ┆ ANONYMOUS_PRINCIPAL ┆ null                    │\n",
      "└────────────┴─────────────┴─────────────────────┴─────────────────────────┘\n",
      "shape: (1, 4)\n",
      "┌──────┬─────────────┬───────────┬───────────┐\n",
      "│ type ┆ principalId ┆ accountId ┆ invokedBy │\n",
      "│ ---  ┆ ---         ┆ ---       ┆ ---       │\n",
      "│ u32  ┆ u32         ┆ u32       ┆ u32       │\n",
      "╞══════╪═════════════╪═══════════╪═══════════╡\n",
      "│ 0    ┆ 5           ┆ 5         ┆ 22        │\n",
      "└──────┴─────────────┴───────────┴───────────┘\n",
      "shape: (4, 4)\n",
      "┌────────────┬─────────────┬─────────────────────┬──────────────────────────┐\n",
      "│ type       ┆ principalId ┆ accountId           ┆ invokedBy                │\n",
      "│ ---        ┆ ---         ┆ ---                 ┆ ---                      │\n",
      "│ str        ┆ str         ┆ str                 ┆ str                      │\n",
      "╞════════════╪═════════════╪═════════════════════╪══════════════════════════╡\n",
      "│ AWSService ┆ null        ┆ null                ┆ ecs-tasks.amazonaws.com  │\n",
      "│ AWSService ┆ null        ┆ null                ┆ lambda.amazonaws.com     │\n",
      "│ AWSService ┆ null        ┆ null                ┆ apigateway.amazonaws.com │\n",
      "│ AWSAccount ┆             ┆ ANONYMOUS_PRINCIPAL ┆ null                     │\n",
      "└────────────┴─────────────┴─────────────────────┴──────────────────────────┘\n",
      "shape: (1, 4)\n",
      "┌──────┬─────────────┬───────────┬───────────┐\n",
      "│ type ┆ principalId ┆ accountId ┆ invokedBy │\n",
      "│ ---  ┆ ---         ┆ ---       ┆ ---       │\n",
      "│ u32  ┆ u32         ┆ u32       ┆ u32       │\n",
      "╞══════╪═════════════╪═══════════╪═══════════╡\n",
      "│ 2    ┆ 2           ┆ 2         ┆ 4         │\n",
      "└──────┴─────────────┴───────────┴───────────┘\n",
      "shape: (2, 1)\n",
      "┌────────────┐\n",
      "│ type       │\n",
      "│ ---        │\n",
      "│ str        │\n",
      "╞════════════╡\n",
      "│ AWSAccount │\n",
      "│ AWSService │\n",
      "└────────────┘\n"
     ]
    }
   ],
   "source": [
    "with pl.Config(fmt_str_lengths=400):\n",
    "    result = (\n",
    "        logs_with_ids.filter(pl.col(\"arn\").is_null())\n",
    "        .select(pl.col(\"userIdentity\"))\n",
    "        .select(pl.col(\"userIdentity\").str.json_extract(infer_schema_length=None))\n",
    "        .get_column(\"userIdentity\").struct.unnest()\n",
    "    )\n",
    "    print(len(result) / len(logs_with_ids))\n",
    "    print(result)\n",
    "    print(result.null_count())\n",
    "    print(result.unique())\n",
    "    print(result.unique().select(pl.all().n_unique()))\n",
    "    print(result.select(\"type\").unique())"
   ]
  },
  {
   "cell_type": "markdown",
   "id": "7207dffd-bbb2-46e3-9659-0e59213d0794",
   "metadata": {},
   "source": [
    "Okay we've identified four user \"types\" with null ARNs: `null`, `AWSService`, `AWSAccount`, `IAMUser`. Let's further investigate."
   ]
  },
  {
   "cell_type": "code",
   "execution_count": 11,
   "id": "46767051-949b-437c-980f-aa1f7a6c737c",
   "metadata": {
    "scrolled": true
   },
   "outputs": [
    {
     "name": "stdout",
     "output_type": "stream",
     "text": [
      "shape: (3, 4)\n",
      "┌────────────┬─────────────┬───────────┬──────────────────────────┐\n",
      "│ type       ┆ principalId ┆ accountId ┆ invokedBy                │\n",
      "│ ---        ┆ ---         ┆ ---       ┆ ---                      │\n",
      "│ str        ┆ str         ┆ str       ┆ str                      │\n",
      "╞════════════╪═════════════╪═══════════╪══════════════════════════╡\n",
      "│ AWSService ┆ null        ┆ null      ┆ ecs-tasks.amazonaws.com  │\n",
      "│ AWSService ┆ null        ┆ null      ┆ lambda.amazonaws.com     │\n",
      "│ AWSService ┆ null        ┆ null      ┆ apigateway.amazonaws.com │\n",
      "└────────────┴─────────────┴───────────┴──────────────────────────┘\n",
      "shape: (1, 4)\n",
      "┌────────────┬─────────────┬─────────────────────┬───────────┐\n",
      "│ type       ┆ principalId ┆ accountId           ┆ invokedBy │\n",
      "│ ---        ┆ ---         ┆ ---                 ┆ ---       │\n",
      "│ str        ┆ str         ┆ str                 ┆ str       │\n",
      "╞════════════╪═════════════╪═════════════════════╪═══════════╡\n",
      "│ AWSAccount ┆             ┆ ANONYMOUS_PRINCIPAL ┆ null      │\n",
      "└────────────┴─────────────┴─────────────────────┴───────────┘\n"
     ]
    }
   ],
   "source": [
    "for identity_type in result.select(\"type\").unique().to_series().to_list():\n",
    "    print(result.filter(pl.col(\"type\") == identity_type).unique())"
   ]
  },
  {
   "cell_type": "markdown",
   "id": "51d147ed-c52c-455f-8d65-3a9e2e75c6ef",
   "metadata": {},
   "source": [
    "### Group logs into traces / windows"
   ]
  },
  {
   "cell_type": "code",
   "execution_count": 28,
   "id": "d4871d9b-bd49-4ece-a03d-97ba35c2689a",
   "metadata": {
    "scrolled": true
   },
   "outputs": [
    {
     "data": {
      "text/html": [
       "<div><style>\n",
       ".dataframe > thead > tr > th,\n",
       ".dataframe > tbody > tr > td {\n",
       "  text-align: right;\n",
       "  white-space: pre-wrap;\n",
       "}\n",
       "</style>\n",
       "<small>shape: (37, 25)</small><table border=\"1\" class=\"dataframe\"><thead><tr><th>window_id</th><th>index</th><th>entity_id</th><th>arn</th><th>eventTime</th><th>eventVersion</th><th>userIdentity</th><th>eventSource</th><th>eventName</th><th>awsRegion</th><th>sourceIPAddress</th><th>userAgent</th><th>errorCode</th><th>errorMessage</th><th>requestParameters</th><th>responseElements</th><th>requestID</th><th>eventID</th><th>eventType</th><th>recipientAccountId</th><th>additionalEventData</th><th>readOnly</th><th>resources</th><th>sharedEventID</th><th>managementEvent</th></tr><tr><td>str</td><td>i64</td><td>str</td><td>str</td><td>datetime[μs, UTC]</td><td>str</td><td>str</td><td>str</td><td>str</td><td>str</td><td>str</td><td>str</td><td>str</td><td>str</td><td>str</td><td>str</td><td>str</td><td>str</td><td>str</td><td>str</td><td>str</td><td>str</td><td>str</td><td>str</td><td>str</td></tr></thead><tbody><tr><td>&quot;arn:aws:sts::653711331788:assumed-role/level1/level1__2018-11-28 23:03:12.00000…</td><td>0</td><td>&quot;arn:aws:sts::653711331788:assumed-role/level1/level1&quot;</td><td>&quot;arn:aws:sts::653711331788:assumed-role/level1/level1&quot;</td><td>2018-11-28 23:03:12 UTC</td><td>&quot;1.04&quot;</td><td>&quot;{&quot;type&quot;: &quot;AssumedRole&quot;, &quot;principalId&quot;: &quot;AROAIBATWWYQXZTTALNCE:level1&quot;, &quot;arn&quot;: &quot;…</td><td>&quot;logs.amazonaws.com&quot;</td><td>&quot;CreateLogStream&quot;</td><td>&quot;us-east-1&quot;</td><td>&quot;34.234.236.212&quot;</td><td>&quot;awslambda-worker&quot;</td><td>&quot;AccessDenied&quot;</td><td>&quot;User: arn:aws:sts::653711331788:assumed-role/level1/level1 is not authorized to…</td><td>&quot;None&quot;</td><td>&quot;None&quot;</td><td>&quot;c80afb02-f361-11e8-b660-f9fa07f60344&quot;</td><td>&quot;77b02a51-70c8-465b-94df-579c1fe42a5c&quot;</td><td>&quot;AwsApiCall&quot;</td><td>&quot;653711331788&quot;</td><td>null</td><td>null</td><td>null</td><td>null</td><td>null</td></tr><tr><td>&quot;arn:aws:sts::653711331788:assumed-role/level1/level1__2018-11-28 23:03:12.00000…</td><td>1</td><td>&quot;arn:aws:sts::653711331788:assumed-role/level1/level1&quot;</td><td>&quot;arn:aws:sts::653711331788:assumed-role/level1/level1&quot;</td><td>2018-11-28 23:03:13 UTC</td><td>&quot;1.04&quot;</td><td>&quot;{&quot;type&quot;: &quot;AssumedRole&quot;, &quot;principalId&quot;: &quot;AROAIBATWWYQXZTTALNCE:level1&quot;, &quot;arn&quot;: &quot;…</td><td>&quot;logs.amazonaws.com&quot;</td><td>&quot;CreateLogStream&quot;</td><td>&quot;us-east-1&quot;</td><td>&quot;34.234.236.212&quot;</td><td>&quot;awslambda-worker&quot;</td><td>&quot;AccessDenied&quot;</td><td>&quot;User: arn:aws:sts::653711331788:assumed-role/level1/level1 is not authorized to…</td><td>&quot;None&quot;</td><td>&quot;None&quot;</td><td>&quot;c8b78e2f-f361-11e8-937e-2325b232ab69&quot;</td><td>&quot;794cada7-3c82-4d0c-8b88-521228faba8c&quot;</td><td>&quot;AwsApiCall&quot;</td><td>&quot;653711331788&quot;</td><td>null</td><td>null</td><td>null</td><td>null</td><td>null</td></tr><tr><td>&quot;arn:aws:sts::653711331788:assumed-role/level1/level1__2018-11-28 23:03:12.00000…</td><td>2</td><td>&quot;arn:aws:sts::653711331788:assumed-role/level1/level1&quot;</td><td>&quot;arn:aws:sts::653711331788:assumed-role/level1/level1&quot;</td><td>2018-11-28 23:03:20 UTC</td><td>&quot;1.04&quot;</td><td>&quot;{&quot;type&quot;: &quot;AssumedRole&quot;, &quot;principalId&quot;: &quot;AROAIBATWWYQXZTTALNCE:level1&quot;, &quot;arn&quot;: &quot;…</td><td>&quot;logs.amazonaws.com&quot;</td><td>&quot;CreateLogStream&quot;</td><td>&quot;us-east-1&quot;</td><td>&quot;34.234.236.212&quot;</td><td>&quot;awslambda-worker&quot;</td><td>&quot;AccessDenied&quot;</td><td>&quot;User: arn:aws:sts::653711331788:assumed-role/level1/level1 is not authorized to…</td><td>&quot;None&quot;</td><td>&quot;None&quot;</td><td>&quot;cc9ae337-f361-11e8-894e-cbc2b0778d92&quot;</td><td>&quot;483557d2-2b35-4fc6-b682-ff5dbc96eccf&quot;</td><td>&quot;AwsApiCall&quot;</td><td>&quot;653711331788&quot;</td><td>null</td><td>null</td><td>null</td><td>null</td><td>null</td></tr><tr><td>&quot;arn:aws:sts::653711331788:assumed-role/level1/level1__2018-11-28 23:03:12.00000…</td><td>3</td><td>&quot;arn:aws:sts::653711331788:assumed-role/level1/level1&quot;</td><td>&quot;arn:aws:sts::653711331788:assumed-role/level1/level1&quot;</td><td>2018-11-28 23:03:35 UTC</td><td>&quot;1.04&quot;</td><td>&quot;{&quot;type&quot;: &quot;AssumedRole&quot;, &quot;principalId&quot;: &quot;AROAIBATWWYQXZTTALNCE:level1&quot;, &quot;arn&quot;: &quot;…</td><td>&quot;logs.amazonaws.com&quot;</td><td>&quot;CreateLogStream&quot;</td><td>&quot;us-east-1&quot;</td><td>&quot;34.234.236.212&quot;</td><td>&quot;awslambda-worker&quot;</td><td>&quot;AccessDenied&quot;</td><td>&quot;User: arn:aws:sts::653711331788:assumed-role/level1/level1 is not authorized to…</td><td>&quot;None&quot;</td><td>&quot;None&quot;</td><td>&quot;d591cf1a-f361-11e8-b278-b74c8fed5c3c&quot;</td><td>&quot;c9c01b63-70a2-4322-9f83-8be0f1c9ca1e&quot;</td><td>&quot;AwsApiCall&quot;</td><td>&quot;653711331788&quot;</td><td>null</td><td>null</td><td>null</td><td>null</td><td>null</td></tr><tr><td>&quot;arn:aws:sts::653711331788:assumed-role/level1/level1__2018-11-28 23:03:50.00000…</td><td>0</td><td>&quot;arn:aws:sts::653711331788:assumed-role/level1/level1&quot;</td><td>&quot;arn:aws:sts::653711331788:assumed-role/level1/level1&quot;</td><td>2018-11-28 23:03:50 UTC</td><td>&quot;1.04&quot;</td><td>&quot;{&quot;type&quot;: &quot;AssumedRole&quot;, &quot;principalId&quot;: &quot;AROAIBATWWYQXZTTALNCE:level1&quot;, &quot;arn&quot;: &quot;…</td><td>&quot;logs.amazonaws.com&quot;</td><td>&quot;CreateLogStream&quot;</td><td>&quot;us-east-1&quot;</td><td>&quot;34.234.236.212&quot;</td><td>&quot;awslambda-worker&quot;</td><td>&quot;AccessDenied&quot;</td><td>&quot;User: arn:aws:sts::653711331788:assumed-role/level1/level1 is not authorized to…</td><td>&quot;None&quot;</td><td>&quot;None&quot;</td><td>&quot;de85fb9c-f361-11e8-8558-710261198352&quot;</td><td>&quot;1dcd0cba-c92b-4506-983a-012783817339&quot;</td><td>&quot;AwsApiCall&quot;</td><td>&quot;653711331788&quot;</td><td>null</td><td>null</td><td>null</td><td>null</td><td>null</td></tr><tr><td>&quot;arn:aws:sts::653711331788:assumed-role/level1/level1__2018-11-28 23:03:50.00000…</td><td>1</td><td>&quot;arn:aws:sts::653711331788:assumed-role/level1/level1&quot;</td><td>&quot;arn:aws:sts::653711331788:assumed-role/level1/level1&quot;</td><td>2018-11-28 23:04:54 UTC</td><td>&quot;1.05&quot;</td><td>&quot;{&quot;type&quot;: &quot;AssumedRole&quot;, &quot;principalId&quot;: &quot;AROAIBATWWYQXZTTALNCE:level1&quot;, &quot;arn&quot;: &quot;…</td><td>&quot;s3.amazonaws.com&quot;</td><td>&quot;ListObjects&quot;</td><td>&quot;us-east-1&quot;</td><td>&quot;104.102.221.250&quot;</td><td>&quot;[aws-cli/1.16.19 Python/2.7.10 Darwin/17.7.0 botocore/1.12.9]&quot;</td><td>null</td><td>null</td><td>&quot;{&quot;list-type&quot;: &quot;2&quot;, &quot;bucketName&quot;: &quot;level1.flaws2.cloud&quot;, &quot;encoding-type&quot;: &quot;url&quot;,…</td><td>&quot;None&quot;</td><td>&quot;8D9133EDD418DB32&quot;</td><td>&quot;8b3e9429-989c-4e28-92b3-da8df5603f6d&quot;</td><td>&quot;AwsApiCall&quot;</td><td>&quot;653711331788&quot;</td><td>&quot;{&quot;x-amz-id-2&quot;: &quot;zUno6UWW1NIjHLVhC3kvw8uE/5erk7GvVVsYEeahpsW37yi99WZ+biqEaRT1Xr9…</td><td>&quot;True&quot;</td><td>&quot;[{&quot;type&quot;: &quot;AWS::S3::Object&quot;, &quot;ARNPrefix&quot;: &quot;arn:aws:s3:::level1.flaws2.cloud/&quot;},…</td><td>null</td><td>null</td></tr><tr><td>&quot;arn:aws:sts::653711331788:assumed-role/level1/level1__2018-11-28 23:03:50.00000…</td><td>2</td><td>&quot;arn:aws:sts::653711331788:assumed-role/level1/level1&quot;</td><td>&quot;arn:aws:sts::653711331788:assumed-role/level1/level1&quot;</td><td>2018-11-28 23:05:53 UTC</td><td>&quot;1.04&quot;</td><td>&quot;{&quot;type&quot;: &quot;AssumedRole&quot;, &quot;principalId&quot;: &quot;AROAIBATWWYQXZTTALNCE:level1&quot;, &quot;arn&quot;: &quot;…</td><td>&quot;ecr.amazonaws.com&quot;</td><td>&quot;ListImages&quot;</td><td>&quot;us-east-1&quot;</td><td>&quot;104.102.221.250&quot;</td><td>&quot;aws-cli/1.16.19 Python/2.7.10 Darwin/17.7.0 botocore/1.12.9&quot;</td><td>null</td><td>null</td><td>&quot;{&quot;repositoryName&quot;: &quot;level2&quot;, &quot;registryId&quot;: &quot;653711331788&quot;}&quot;</td><td>&quot;None&quot;</td><td>&quot;2780d808-f362-11e8-b13e-dbd4ed9d7936&quot;</td><td>&quot;eb0fa4a0-580f-4270-bd37-7e45dfb217aa&quot;</td><td>&quot;AwsApiCall&quot;</td><td>&quot;653711331788&quot;</td><td>null</td><td>null</td><td>&quot;[{&quot;ARN&quot;: &quot;arn:aws:ecr:us-east-1:653711331788:repository/level2&quot;, &quot;accountId&quot;: &quot;…</td><td>null</td><td>null</td></tr><tr><td>&quot;arn:aws:sts::653711331788:assumed-role/level1/level1__2018-11-28 23:03:50.00000…</td><td>3</td><td>&quot;arn:aws:sts::653711331788:assumed-role/level1/level1&quot;</td><td>&quot;arn:aws:sts::653711331788:assumed-role/level1/level1&quot;</td><td>2018-11-28 23:06:17 UTC</td><td>&quot;1.04&quot;</td><td>&quot;{&quot;type&quot;: &quot;AssumedRole&quot;, &quot;principalId&quot;: &quot;AROAIBATWWYQXZTTALNCE:level1&quot;, &quot;arn&quot;: &quot;…</td><td>&quot;ecr.amazonaws.com&quot;</td><td>&quot;BatchGetImage&quot;</td><td>&quot;us-east-1&quot;</td><td>&quot;104.102.221.250&quot;</td><td>&quot;aws-cli/1.16.19 Python/2.7.10 Darwin/17.7.0 botocore/1.12.9&quot;</td><td>null</td><td>null</td><td>&quot;{&quot;imageIds&quot;: [{&quot;imageTag&quot;: &quot;latest&quot;}], &quot;repositoryName&quot;: &quot;level2&quot;, &quot;registryId&quot;…</td><td>&quot;None&quot;</td><td>&quot;35ea9256-f362-11e8-86cf-35c48074ab0a&quot;</td><td>&quot;b2867f3e-810c-47d1-9657-edb886e03fe6&quot;</td><td>&quot;AwsApiCall&quot;</td><td>&quot;653711331788&quot;</td><td>null</td><td>null</td><td>&quot;[{&quot;ARN&quot;: &quot;arn:aws:ecr:us-east-1:653711331788:repository/level2&quot;, &quot;accountId&quot;: &quot;…</td><td>null</td><td>null</td></tr><tr><td>&quot;arn:aws:sts::653711331788:assumed-role/level1/level1__2018-11-28 23:06:33.00000…</td><td>0</td><td>&quot;arn:aws:sts::653711331788:assumed-role/level1/level1&quot;</td><td>&quot;arn:aws:sts::653711331788:assumed-role/level1/level1&quot;</td><td>2018-11-28 23:06:33 UTC</td><td>&quot;1.04&quot;</td><td>&quot;{&quot;type&quot;: &quot;AssumedRole&quot;, &quot;principalId&quot;: &quot;AROAIBATWWYQXZTTALNCE:level1&quot;, &quot;arn&quot;: &quot;…</td><td>&quot;ecr.amazonaws.com&quot;</td><td>&quot;GetDownloadUrlForLayer&quot;</td><td>&quot;us-east-1&quot;</td><td>&quot;104.102.221.250&quot;</td><td>&quot;aws-cli/1.16.19 Python/2.7.10 Darwin/17.7.0 botocore/1.12.9&quot;</td><td>null</td><td>null</td><td>&quot;{&quot;layerDigest&quot;: &quot;sha256:2d73de35b78103fa305bd941424443d520524a050b1e0c78c488646…</td><td>&quot;None&quot;</td><td>&quot;3f96ec7f-f362-11e8-bf5d-3380094c69db&quot;</td><td>&quot;ff4c72f3-4fbd-45d4-9ee3-3834a78f53de&quot;</td><td>&quot;AwsApiCall&quot;</td><td>&quot;653711331788&quot;</td><td>null</td><td>null</td><td>&quot;[{&quot;ARN&quot;: &quot;arn:aws:ecr:us-east-1:653711331788:repository/level2&quot;, &quot;accountId&quot;: &quot;…</td><td>null</td><td>null</td></tr><tr><td>&quot;arn:aws:sts::653711331788:assumed-role/level3/d190d14a-2404-45d6-9113-4eda22d7f…</td><td>0</td><td>&quot;arn:aws:sts::653711331788:assumed-role/level3/d190d14a-2404-45d6-9113-4eda22d7f…</td><td>&quot;arn:aws:sts::653711331788:assumed-role/level3/d190d14a-2404-45d6-9113-4eda22d7f…</td><td>2018-11-28 23:09:28 UTC</td><td>&quot;1.05&quot;</td><td>&quot;{&quot;type&quot;: &quot;AssumedRole&quot;, &quot;principalId&quot;: &quot;AROAJQMBDNUMIKLZKMF64:d190d14a-2404-45d…</td><td>&quot;s3.amazonaws.com&quot;</td><td>&quot;ListBuckets&quot;</td><td>&quot;us-east-1&quot;</td><td>&quot;104.102.221.250&quot;</td><td>&quot;[aws-cli/1.16.19 Python/2.7.10 Darwin/17.7.0 botocore/1.12.9]&quot;</td><td>null</td><td>null</td><td>&quot;None&quot;</td><td>&quot;None&quot;</td><td>&quot;4698593B9338B27F&quot;</td><td>&quot;65e111a0-83ae-4ba8-9673-16291a804873&quot;</td><td>&quot;AwsApiCall&quot;</td><td>&quot;653711331788&quot;</td><td>null</td><td>null</td><td>null</td><td>null</td><td>null</td></tr><tr><td>&quot;source_ip:104.102.221.250__2018-11-28 23:02:56.000000&quot;</td><td>0</td><td>&quot;source_ip:104.102.221.250&quot;</td><td>null</td><td>2018-11-28 23:02:56 UTC</td><td>&quot;1.05&quot;</td><td>&quot;{&quot;type&quot;: &quot;AWSAccount&quot;, &quot;principalId&quot;: &quot;&quot;, &quot;accountId&quot;: &quot;ANONYMOUS_PRINCIPAL&quot;}&quot;</td><td>&quot;s3.amazonaws.com&quot;</td><td>&quot;GetObject&quot;</td><td>&quot;us-east-1&quot;</td><td>&quot;104.102.221.250&quot;</td><td>&quot;[Mozilla/5.0 (Macintosh; Intel Mac OS X 10_13_6) AppleWebKit/537.36 (KHTML, lik…</td><td>null</td><td>null</td><td>&quot;{&quot;bucketName&quot;: &quot;flaws2.cloud&quot;, &quot;key&quot;: &quot;index.htm&quot;}&quot;</td><td>&quot;None&quot;</td><td>&quot;D9DB3DE51407FFEC&quot;</td><td>&quot;38993e7c-b9e9-46eb-9f93-82e710147d39&quot;</td><td>&quot;AwsApiCall&quot;</td><td>&quot;653711331788&quot;</td><td>&quot;{&quot;x-amz-id-2&quot;: &quot;E/0Pm6UrRvpvNEYDjXhDnCsudplsm91YXPM5ShG/caAJ8H/adUjxO4fTIWRNKLw…</td><td>&quot;True&quot;</td><td>&quot;[{&quot;type&quot;: &quot;AWS::S3::Object&quot;, &quot;ARN&quot;: &quot;arn:aws:s3:::flaws2.cloud/index.htm&quot;}, {&quot;a…</td><td>&quot;9deca33a-d705-42ef-b425-cafe63c5011c&quot;</td><td>null</td></tr><tr><td>&quot;source_ip:104.102.221.250__2018-11-28 23:02:56.000000&quot;</td><td>1</td><td>&quot;source_ip:104.102.221.250&quot;</td><td>null</td><td>2018-11-28 23:02:56 UTC</td><td>&quot;1.05&quot;</td><td>&quot;{&quot;type&quot;: &quot;AWSAccount&quot;, &quot;principalId&quot;: &quot;&quot;, &quot;accountId&quot;: &quot;ANONYMOUS_PRINCIPAL&quot;}&quot;</td><td>&quot;s3.amazonaws.com&quot;</td><td>&quot;GetObject&quot;</td><td>&quot;us-east-1&quot;</td><td>&quot;104.102.221.250&quot;</td><td>&quot;[Mozilla/5.0 (Macintosh; Intel Mac OS X 10_13_6) AppleWebKit/537.36 (KHTML, lik…</td><td>null</td><td>null</td><td>&quot;{&quot;bucketName&quot;: &quot;flaws2.cloud&quot;, &quot;key&quot;: &quot;css/bootstrap.css&quot;}&quot;</td><td>&quot;None&quot;</td><td>&quot;F8D8A2062B50D07A&quot;</td><td>&quot;45f5c327-eb16-4a64-9328-9c31d031c91d&quot;</td><td>&quot;AwsApiCall&quot;</td><td>&quot;653711331788&quot;</td><td>&quot;{&quot;x-amz-id-2&quot;: &quot;oKq4TXtc81jz86UWgqlvkxn2VhUsC46nnHJddDolLNSv7FWcioZ3Bh6hhQ9t4S8…</td><td>&quot;True&quot;</td><td>&quot;[{&quot;type&quot;: &quot;AWS::S3::Object&quot;, &quot;ARN&quot;: &quot;arn:aws:s3:::flaws2.cloud/css/bootstrap.cs…</td><td>&quot;00dc56f4-daf8-41e0-bbe1-bc5d6e020f71&quot;</td><td>null</td></tr><tr><td>&hellip;</td><td>&hellip;</td><td>&hellip;</td><td>&hellip;</td><td>&hellip;</td><td>&hellip;</td><td>&hellip;</td><td>&hellip;</td><td>&hellip;</td><td>&hellip;</td><td>&hellip;</td><td>&hellip;</td><td>&hellip;</td><td>&hellip;</td><td>&hellip;</td><td>&hellip;</td><td>&hellip;</td><td>&hellip;</td><td>&hellip;</td><td>&hellip;</td><td>&hellip;</td><td>&hellip;</td><td>&hellip;</td><td>&hellip;</td><td>&hellip;</td></tr><tr><td>&quot;source_ip:104.102.221.250__2018-11-28 23:03:14.000000&quot;</td><td>3</td><td>&quot;source_ip:104.102.221.250&quot;</td><td>null</td><td>2018-11-28 23:05:10 UTC</td><td>&quot;1.05&quot;</td><td>&quot;{&quot;type&quot;: &quot;AWSAccount&quot;, &quot;principalId&quot;: &quot;&quot;, &quot;accountId&quot;: &quot;ANONYMOUS_PRINCIPAL&quot;}&quot;</td><td>&quot;s3.amazonaws.com&quot;</td><td>&quot;GetObject&quot;</td><td>&quot;us-east-1&quot;</td><td>&quot;104.102.221.250&quot;</td><td>&quot;[Mozilla/5.0 (Macintosh; Intel Mac OS X 10_13_6) AppleWebKit/537.36 (KHTML, lik…</td><td>null</td><td>null</td><td>&quot;{&quot;bucketName&quot;: &quot;level1.flaws2.cloud&quot;, &quot;key&quot;: &quot;secret-ppxVFdwV4DDtZm8vbQRvhxL8mE…</td><td>&quot;None&quot;</td><td>&quot;60662C5FA3C9143E&quot;</td><td>&quot;192c5aeb-d052-4b46-aac9-975ad9bc399e&quot;</td><td>&quot;AwsApiCall&quot;</td><td>&quot;653711331788&quot;</td><td>&quot;{&quot;x-amz-id-2&quot;: &quot;zfbRTIyBLgyJO6CGXRpmixB+170PrbcBWv8fd66IZ5gec/Gr5ltLdN0j8/d23q/…</td><td>&quot;True&quot;</td><td>&quot;[{&quot;type&quot;: &quot;AWS::S3::Object&quot;, &quot;ARN&quot;: &quot;arn:aws:s3:::level1.flaws2.cloud/secret-pp…</td><td>&quot;425ca05b-7df8-4283-9426-5f2f2d491490&quot;</td><td>null</td></tr><tr><td>&quot;source_ip:104.102.221.250__2018-11-28 23:05:12.000000&quot;</td><td>0</td><td>&quot;source_ip:104.102.221.250&quot;</td><td>null</td><td>2018-11-28 23:05:12 UTC</td><td>&quot;1.05&quot;</td><td>&quot;{&quot;type&quot;: &quot;AWSAccount&quot;, &quot;principalId&quot;: &quot;&quot;, &quot;accountId&quot;: &quot;ANONYMOUS_PRINCIPAL&quot;}&quot;</td><td>&quot;s3.amazonaws.com&quot;</td><td>&quot;GetObject&quot;</td><td>&quot;us-east-1&quot;</td><td>&quot;104.102.221.250&quot;</td><td>&quot;[Mozilla/5.0 (Macintosh; Intel Mac OS X 10_13_6) AppleWebKit/537.36 (KHTML, lik…</td><td>null</td><td>null</td><td>&quot;{&quot;bucketName&quot;: &quot;level2-g9785tw8478k4awxtbox9kk3c5ka8iiz.flaws2.cloud&quot;, &quot;key&quot;: &quot;…</td><td>&quot;None&quot;</td><td>&quot;E58CA4683D81275D&quot;</td><td>&quot;769bf0f0-75a5-464d-ae5c-5e76a315a40c&quot;</td><td>&quot;AwsApiCall&quot;</td><td>&quot;653711331788&quot;</td><td>&quot;{&quot;x-amz-id-2&quot;: &quot;K6r0s1qM5HuK3riCtJPUz+ybijRkP+1kmj7OBnbQBhkYocqSgimeBCVLwzhZSpN…</td><td>&quot;True&quot;</td><td>&quot;[{&quot;type&quot;: &quot;AWS::S3::Object&quot;, &quot;ARN&quot;: &quot;arn:aws:s3:::level2-g9785tw8478k4awxtbox9k…</td><td>&quot;c6747cd8-004e-4f43-abb4-6611fcdebd49&quot;</td><td>null</td></tr><tr><td>&quot;source_ip:104.102.221.250__2018-11-28 23:05:12.000000&quot;</td><td>1</td><td>&quot;source_ip:104.102.221.250&quot;</td><td>null</td><td>2018-11-28 23:05:12 UTC</td><td>&quot;1.05&quot;</td><td>&quot;{&quot;type&quot;: &quot;AWSAccount&quot;, &quot;principalId&quot;: &quot;&quot;, &quot;accountId&quot;: &quot;ANONYMOUS_PRINCIPAL&quot;}&quot;</td><td>&quot;s3.amazonaws.com&quot;</td><td>&quot;GetObject&quot;</td><td>&quot;us-east-1&quot;</td><td>&quot;104.102.221.250&quot;</td><td>&quot;[Mozilla/5.0 (Macintosh; Intel Mac OS X 10_13_6) AppleWebKit/537.36 (KHTML, lik…</td><td>null</td><td>null</td><td>&quot;{&quot;bucketName&quot;: &quot;level2-g9785tw8478k4awxtbox9kk3c5ka8iiz.flaws2.cloud&quot;, &quot;key&quot;: &quot;…</td><td>&quot;None&quot;</td><td>&quot;9B3577A0EF1F2E6B&quot;</td><td>&quot;523060f0-18b3-4645-b0d5-65298d167175&quot;</td><td>&quot;AwsApiCall&quot;</td><td>&quot;653711331788&quot;</td><td>&quot;{&quot;x-amz-id-2&quot;: &quot;VF0/7oyrYtH5U3QCyEZSOn8lD+a1vLaFsDJ1x83d37Slft+ghy9QRV1IDTzSrHE…</td><td>&quot;True&quot;</td><td>&quot;[{&quot;type&quot;: &quot;AWS::S3::Object&quot;, &quot;ARN&quot;: &quot;arn:aws:s3:::level2-g9785tw8478k4awxtbox9k…</td><td>&quot;9d0709e0-8b53-400f-9fd1-d4a0983756f5&quot;</td><td>null</td></tr><tr><td>&quot;source_ip:104.102.221.250__2018-11-28 23:05:12.000000&quot;</td><td>2</td><td>&quot;source_ip:104.102.221.250&quot;</td><td>null</td><td>2018-11-28 23:07:08 UTC</td><td>&quot;1.05&quot;</td><td>&quot;{&quot;type&quot;: &quot;AWSAccount&quot;, &quot;principalId&quot;: &quot;&quot;, &quot;accountId&quot;: &quot;ANONYMOUS_PRINCIPAL&quot;}&quot;</td><td>&quot;s3.amazonaws.com&quot;</td><td>&quot;GetObject&quot;</td><td>&quot;us-east-1&quot;</td><td>&quot;104.102.221.250&quot;</td><td>&quot;[Mozilla/5.0 (Macintosh; Intel Mac OS X 10_13_6) AppleWebKit/537.36 (KHTML, lik…</td><td>null</td><td>null</td><td>&quot;{&quot;bucketName&quot;: &quot;level3-oc6ou6dnkw8sszwvdrraxc5t5udrsw3s.flaws2.cloud&quot;, &quot;key&quot;: &quot;…</td><td>&quot;None&quot;</td><td>&quot;EA53D372B5A573AC&quot;</td><td>&quot;fb535246-20ad-4bc6-a48d-9b0dbfc4f903&quot;</td><td>&quot;AwsApiCall&quot;</td><td>&quot;653711331788&quot;</td><td>&quot;{&quot;x-amz-id-2&quot;: &quot;BvIB9atW52QrIWQ15+DpksLD1UMSp8h/rpTWitGEPonz0nvTdna/HWYr/VzN5cK…</td><td>&quot;True&quot;</td><td>&quot;[{&quot;type&quot;: &quot;AWS::S3::Object&quot;, &quot;ARN&quot;: &quot;arn:aws:s3:::level3-oc6ou6dnkw8sszwvdrraxc…</td><td>&quot;b86c09be-1d5c-41e4-a5ad-ff3b6b28f2e1&quot;</td><td>null</td></tr><tr><td>&quot;source_ip:104.102.221.250__2018-11-28 23:05:12.000000&quot;</td><td>3</td><td>&quot;source_ip:104.102.221.250&quot;</td><td>null</td><td>2018-11-28 23:07:08 UTC</td><td>&quot;1.05&quot;</td><td>&quot;{&quot;type&quot;: &quot;AWSAccount&quot;, &quot;principalId&quot;: &quot;&quot;, &quot;accountId&quot;: &quot;ANONYMOUS_PRINCIPAL&quot;}&quot;</td><td>&quot;s3.amazonaws.com&quot;</td><td>&quot;GetObject&quot;</td><td>&quot;us-east-1&quot;</td><td>&quot;104.102.221.250&quot;</td><td>&quot;[Mozilla/5.0 (Macintosh; Intel Mac OS X 10_13_6) AppleWebKit/537.36 (KHTML, lik…</td><td>null</td><td>null</td><td>&quot;{&quot;bucketName&quot;: &quot;level3-oc6ou6dnkw8sszwvdrraxc5t5udrsw3s.flaws2.cloud&quot;, &quot;key&quot;: &quot;…</td><td>&quot;None&quot;</td><td>&quot;61E062506BA5C351&quot;</td><td>&quot;fa48f847-6bf1-4a6b-ad7c-9079ae8ada37&quot;</td><td>&quot;AwsApiCall&quot;</td><td>&quot;653711331788&quot;</td><td>&quot;{&quot;x-amz-id-2&quot;: &quot;nD4ZGHkAVbHp2OuGo9ggwb1BI0uM+JFqVYzm7ibhw3vJkFqzaXhZYJR9rxSO/7k…</td><td>&quot;True&quot;</td><td>&quot;[{&quot;type&quot;: &quot;AWS::S3::Object&quot;, &quot;ARN&quot;: &quot;arn:aws:s3:::level3-oc6ou6dnkw8sszwvdrraxc…</td><td>&quot;3eaa27bd-2f0c-422d-be69-0f2a504ca79d&quot;</td><td>null</td></tr><tr><td>&quot;source_ip:104.102.221.250__2018-11-28 23:09:36.000000&quot;</td><td>0</td><td>&quot;source_ip:104.102.221.250&quot;</td><td>null</td><td>2018-11-28 23:09:36 UTC</td><td>&quot;1.05&quot;</td><td>&quot;{&quot;type&quot;: &quot;AWSAccount&quot;, &quot;principalId&quot;: &quot;&quot;, &quot;accountId&quot;: &quot;ANONYMOUS_PRINCIPAL&quot;}&quot;</td><td>&quot;s3.amazonaws.com&quot;</td><td>&quot;GetObject&quot;</td><td>&quot;us-east-1&quot;</td><td>&quot;104.102.221.250&quot;</td><td>&quot;[Mozilla/5.0 (Macintosh; Intel Mac OS X 10_13_6) AppleWebKit/537.36 (KHTML, lik…</td><td>null</td><td>null</td><td>&quot;{&quot;bucketName&quot;: &quot;the-end-962b72bjahfm5b4wcktm8t9z4sapemjb.flaws2.cloud&quot;, &quot;key&quot;: …</td><td>&quot;None&quot;</td><td>&quot;EDFBFC9CE11E755F&quot;</td><td>&quot;ea33682d-0829-40c1-9820-bd721b9aede8&quot;</td><td>&quot;AwsApiCall&quot;</td><td>&quot;653711331788&quot;</td><td>&quot;{&quot;x-amz-id-2&quot;: &quot;AeawUxLi2duvWcRYWMuVYUmtCkBuOvHaktUvODIORlnw+U6VbswU9FfeOAEDq9k…</td><td>&quot;True&quot;</td><td>&quot;[{&quot;type&quot;: &quot;AWS::S3::Object&quot;, &quot;ARN&quot;: &quot;arn:aws:s3:::the-end-962b72bjahfm5b4wcktm8…</td><td>&quot;a59b4ac8-6a51-44ff-ab76-e66f75bd95ce&quot;</td><td>null</td></tr><tr><td>&quot;source_ip:104.102.221.250__2018-11-28 23:09:36.000000&quot;</td><td>1</td><td>&quot;source_ip:104.102.221.250&quot;</td><td>null</td><td>2018-11-28 23:09:36 UTC</td><td>&quot;1.05&quot;</td><td>&quot;{&quot;type&quot;: &quot;AWSAccount&quot;, &quot;principalId&quot;: &quot;&quot;, &quot;accountId&quot;: &quot;ANONYMOUS_PRINCIPAL&quot;}&quot;</td><td>&quot;s3.amazonaws.com&quot;</td><td>&quot;GetObject&quot;</td><td>&quot;us-east-1&quot;</td><td>&quot;104.102.221.250&quot;</td><td>&quot;[Mozilla/5.0 (Macintosh; Intel Mac OS X 10_13_6) AppleWebKit/537.36 (KHTML, lik…</td><td>null</td><td>null</td><td>&quot;{&quot;bucketName&quot;: &quot;the-end-962b72bjahfm5b4wcktm8t9z4sapemjb.flaws2.cloud&quot;, &quot;key&quot;: …</td><td>&quot;None&quot;</td><td>&quot;9880010F3D39F3AC&quot;</td><td>&quot;dee6f6a3-f18a-40db-a6fd-b96d05502266&quot;</td><td>&quot;AwsApiCall&quot;</td><td>&quot;653711331788&quot;</td><td>&quot;{&quot;x-amz-id-2&quot;: &quot;tLMpJDK15z1teLvIzReA3N4IMnNATUrOrGfoPS0kxZ27SPTRVbxUtdmmucw3XfE…</td><td>&quot;True&quot;</td><td>&quot;[{&quot;type&quot;: &quot;AWS::S3::Object&quot;, &quot;ARN&quot;: &quot;arn:aws:s3:::the-end-962b72bjahfm5b4wcktm8…</td><td>&quot;f8c6cdc8-6ec1-4e14-9a0e-f300b16e282e&quot;</td><td>null</td></tr><tr><td>&quot;source_ip:apigateway.amazonaws.com__2018-11-28 23:03:13.000000&quot;</td><td>0</td><td>&quot;source_ip:apigateway.amazonaws.com&quot;</td><td>null</td><td>2018-11-28 23:03:13 UTC</td><td>&quot;1.06&quot;</td><td>&quot;{&quot;type&quot;: &quot;AWSService&quot;, &quot;invokedBy&quot;: &quot;apigateway.amazonaws.com&quot;}&quot;</td><td>&quot;lambda.amazonaws.com&quot;</td><td>&quot;Invoke&quot;</td><td>&quot;us-east-1&quot;</td><td>&quot;apigateway.amazonaws.com&quot;</td><td>&quot;apigateway.amazonaws.com&quot;</td><td>null</td><td>null</td><td>&quot;{&quot;functionName&quot;: &quot;arn:aws:lambda:us-east-1:653711331788:function:level1&quot;, &quot;sour…</td><td>&quot;None&quot;</td><td>&quot;c7f5c488-f361-11e8-b96d-ad9248174902&quot;</td><td>&quot;44ffd21a-b37c-409e-8f2c-916186757791&quot;</td><td>&quot;AwsApiCall&quot;</td><td>&quot;653711331788&quot;</td><td>&quot;{&quot;functionVersion&quot;: &quot;arn:aws:lambda:us-east-1:653711331788:function:level1:$LAT…</td><td>&quot;False&quot;</td><td>&quot;[{&quot;accountId&quot;: &quot;653711331788&quot;, &quot;type&quot;: &quot;AWS::Lambda::Function&quot;, &quot;ARN&quot;: &quot;arn:aws…</td><td>&quot;d6a2a60f-356d-4f56-8772-d6a900838373&quot;</td><td>&quot;False&quot;</td></tr><tr><td>&quot;source_ip:apigateway.amazonaws.com__2018-11-28 23:03:13.000000&quot;</td><td>1</td><td>&quot;source_ip:apigateway.amazonaws.com&quot;</td><td>null</td><td>2018-11-28 23:03:20 UTC</td><td>&quot;1.06&quot;</td><td>&quot;{&quot;type&quot;: &quot;AWSService&quot;, &quot;invokedBy&quot;: &quot;apigateway.amazonaws.com&quot;}&quot;</td><td>&quot;lambda.amazonaws.com&quot;</td><td>&quot;Invoke&quot;</td><td>&quot;us-east-1&quot;</td><td>&quot;apigateway.amazonaws.com&quot;</td><td>&quot;apigateway.amazonaws.com&quot;</td><td>null</td><td>null</td><td>&quot;{&quot;functionName&quot;: &quot;arn:aws:lambda:us-east-1:653711331788:function:level1&quot;, &quot;sour…</td><td>&quot;None&quot;</td><td>&quot;cc96765b-f361-11e8-a2d8-2b201bd316c5&quot;</td><td>&quot;949e83c0-0d98-4b7d-8845-5e2fe3eafde4&quot;</td><td>&quot;AwsApiCall&quot;</td><td>&quot;653711331788&quot;</td><td>&quot;{&quot;functionVersion&quot;: &quot;arn:aws:lambda:us-east-1:653711331788:function:level1:$LAT…</td><td>&quot;False&quot;</td><td>&quot;[{&quot;accountId&quot;: &quot;653711331788&quot;, &quot;type&quot;: &quot;AWS::Lambda::Function&quot;, &quot;ARN&quot;: &quot;arn:aws…</td><td>&quot;a63b106b-e331-4778-a6c0-64e397216fde&quot;</td><td>&quot;False&quot;</td></tr><tr><td>&quot;source_ip:ecs-tasks.amazonaws.com__2018-11-28 22:31:59.000000&quot;</td><td>0</td><td>&quot;source_ip:ecs-tasks.amazonaws.com&quot;</td><td>null</td><td>2018-11-28 22:31:59 UTC</td><td>&quot;1.05&quot;</td><td>&quot;{&quot;type&quot;: &quot;AWSService&quot;, &quot;invokedBy&quot;: &quot;ecs-tasks.amazonaws.com&quot;}&quot;</td><td>&quot;sts.amazonaws.com&quot;</td><td>&quot;AssumeRole&quot;</td><td>&quot;us-east-1&quot;</td><td>&quot;ecs-tasks.amazonaws.com&quot;</td><td>&quot;ecs-tasks.amazonaws.com&quot;</td><td>null</td><td>null</td><td>&quot;{&quot;roleSessionName&quot;: &quot;d190d14a-2404-45d6-9113-4eda22d7f2c7&quot;, &quot;roleArn&quot;: &quot;arn:aws…</td><td>&quot;{&quot;credentials&quot;: {&quot;sessionToken&quot;: &quot;FQoGZXIvYXdzEFAaDEbnJXLefTT+kjlmKSKSBNgEUj8tJ…</td><td>&quot;6b7d6c60-f35d-11e8-becc-39e7d43d4afe&quot;</td><td>&quot;6177ca7e-860e-482c-bde9-50c735af58d6&quot;</td><td>&quot;AwsApiCall&quot;</td><td>&quot;653711331788&quot;</td><td>null</td><td>null</td><td>&quot;[{&quot;ARN&quot;: &quot;arn:aws:iam::653711331788:role/level3&quot;, &quot;accountId&quot;: &quot;653711331788&quot;, …</td><td>&quot;1d18bf74-8392-4496-9dc4-a45cb799b8b4&quot;</td><td>null</td></tr><tr><td>&quot;source_ip:ecs-tasks.amazonaws.com__2018-11-28 22:31:59.000000&quot;</td><td>1</td><td>&quot;source_ip:ecs-tasks.amazonaws.com&quot;</td><td>null</td><td>2018-11-28 22:31:59 UTC</td><td>&quot;1.05&quot;</td><td>&quot;{&quot;type&quot;: &quot;AWSService&quot;, &quot;invokedBy&quot;: &quot;ecs-tasks.amazonaws.com&quot;}&quot;</td><td>&quot;sts.amazonaws.com&quot;</td><td>&quot;AssumeRole&quot;</td><td>&quot;us-east-1&quot;</td><td>&quot;ecs-tasks.amazonaws.com&quot;</td><td>&quot;ecs-tasks.amazonaws.com&quot;</td><td>null</td><td>null</td><td>&quot;{&quot;roleSessionName&quot;: &quot;d190d14a-2404-45d6-9113-4eda22d7f2c7&quot;, &quot;roleArn&quot;: &quot;arn:aws…</td><td>&quot;{&quot;credentials&quot;: {&quot;sessionToken&quot;: &quot;FQoGZXIvYXdzEFAaDAhihig4wSQxSSiMjSKSBOW1B0tXz…</td><td>&quot;6b80a0b1-f35d-11e8-becc-39e7d43d4afe&quot;</td><td>&quot;457af3a9-0b1b-44ca-91e1-8f4a0f873149&quot;</td><td>&quot;AwsApiCall&quot;</td><td>&quot;653711331788&quot;</td><td>null</td><td>null</td><td>&quot;[{&quot;ARN&quot;: &quot;arn:aws:iam::653711331788:role/ecsTaskExecutionRole&quot;, &quot;accountId&quot;: &quot;6…</td><td>&quot;5397e1a9-82c7-4a00-9b1c-e44cbd688aa1&quot;</td><td>null</td></tr><tr><td>&quot;source_ip:lambda.amazonaws.com__2018-11-28 23:03:12.000000&quot;</td><td>0</td><td>&quot;source_ip:lambda.amazonaws.com&quot;</td><td>null</td><td>2018-11-28 23:03:12 UTC</td><td>&quot;1.05&quot;</td><td>&quot;{&quot;type&quot;: &quot;AWSService&quot;, &quot;invokedBy&quot;: &quot;lambda.amazonaws.com&quot;}&quot;</td><td>&quot;sts.amazonaws.com&quot;</td><td>&quot;AssumeRole&quot;</td><td>&quot;us-east-1&quot;</td><td>&quot;lambda.amazonaws.com&quot;</td><td>&quot;lambda.amazonaws.com&quot;</td><td>null</td><td>null</td><td>&quot;{&quot;roleSessionName&quot;: &quot;level1&quot;, &quot;roleArn&quot;: &quot;arn:aws:iam::653711331788:role/servic…</td><td>&quot;{&quot;credentials&quot;: {&quot;sessionToken&quot;: &quot;FQoGZXIvYXdzEFAaDE9F6nbckBXzOEftQyLfAaF9O+OLY…</td><td>&quot;c7fc06c3-f361-11e8-8c16-979ea5b5e404&quot;</td><td>&quot;e16db4aa-60e9-4a4b-a907-ccb4fbcd0227&quot;</td><td>&quot;AwsApiCall&quot;</td><td>&quot;653711331788&quot;</td><td>null</td><td>null</td><td>&quot;[{&quot;ARN&quot;: &quot;arn:aws:iam::653711331788:role/service-role/level1&quot;, &quot;accountId&quot;: &quot;65…</td><td>&quot;420b178b-5905-4158-8db7-1cf56f799009&quot;</td><td>null</td></tr></tbody></table></div>"
      ],
      "text/plain": [
       "shape: (37, 25)\n",
       "┌────────────┬───────┬────────────┬────────────┬───┬──────────┬────────────┬───────────┬───────────┐\n",
       "│ window_id  ┆ index ┆ entity_id  ┆ arn        ┆ … ┆ readOnly ┆ resources  ┆ sharedEve ┆ managemen │\n",
       "│ ---        ┆ ---   ┆ ---        ┆ ---        ┆   ┆ ---      ┆ ---        ┆ ntID      ┆ tEvent    │\n",
       "│ str        ┆ i64   ┆ str        ┆ str        ┆   ┆ str      ┆ str        ┆ ---       ┆ ---       │\n",
       "│            ┆       ┆            ┆            ┆   ┆          ┆            ┆ str       ┆ str       │\n",
       "╞════════════╪═══════╪════════════╪════════════╪═══╪══════════╪════════════╪═══════════╪═══════════╡\n",
       "│ arn:aws:st ┆ 0     ┆ arn:aws:st ┆ arn:aws:st ┆ … ┆ null     ┆ null       ┆ null      ┆ null      │\n",
       "│ s::6537113 ┆       ┆ s::6537113 ┆ s::6537113 ┆   ┆          ┆            ┆           ┆           │\n",
       "│ 31788:assu ┆       ┆ 31788:assu ┆ 31788:assu ┆   ┆          ┆            ┆           ┆           │\n",
       "│ med-role/l ┆       ┆ med-role/l ┆ med-role/l ┆   ┆          ┆            ┆           ┆           │\n",
       "│ evel1/leve ┆       ┆ evel1/leve ┆ evel1/leve ┆   ┆          ┆            ┆           ┆           │\n",
       "│ l1__2018-1 ┆       ┆ l1         ┆ l1         ┆   ┆          ┆            ┆           ┆           │\n",
       "│ 1-28 23:03 ┆       ┆            ┆            ┆   ┆          ┆            ┆           ┆           │\n",
       "│ :12.000000 ┆       ┆            ┆            ┆   ┆          ┆            ┆           ┆           │\n",
       "│ arn:aws:st ┆ 1     ┆ arn:aws:st ┆ arn:aws:st ┆ … ┆ null     ┆ null       ┆ null      ┆ null      │\n",
       "│ s::6537113 ┆       ┆ s::6537113 ┆ s::6537113 ┆   ┆          ┆            ┆           ┆           │\n",
       "│ 31788:assu ┆       ┆ 31788:assu ┆ 31788:assu ┆   ┆          ┆            ┆           ┆           │\n",
       "│ med-role/l ┆       ┆ med-role/l ┆ med-role/l ┆   ┆          ┆            ┆           ┆           │\n",
       "│ evel1/leve ┆       ┆ evel1/leve ┆ evel1/leve ┆   ┆          ┆            ┆           ┆           │\n",
       "│ l1__2018-1 ┆       ┆ l1         ┆ l1         ┆   ┆          ┆            ┆           ┆           │\n",
       "│ 1-28 23:03 ┆       ┆            ┆            ┆   ┆          ┆            ┆           ┆           │\n",
       "│ :12.000000 ┆       ┆            ┆            ┆   ┆          ┆            ┆           ┆           │\n",
       "│ arn:aws:st ┆ 2     ┆ arn:aws:st ┆ arn:aws:st ┆ … ┆ null     ┆ null       ┆ null      ┆ null      │\n",
       "│ s::6537113 ┆       ┆ s::6537113 ┆ s::6537113 ┆   ┆          ┆            ┆           ┆           │\n",
       "│ 31788:assu ┆       ┆ 31788:assu ┆ 31788:assu ┆   ┆          ┆            ┆           ┆           │\n",
       "│ med-role/l ┆       ┆ med-role/l ┆ med-role/l ┆   ┆          ┆            ┆           ┆           │\n",
       "│ evel1/leve ┆       ┆ evel1/leve ┆ evel1/leve ┆   ┆          ┆            ┆           ┆           │\n",
       "│ l1__2018-1 ┆       ┆ l1         ┆ l1         ┆   ┆          ┆            ┆           ┆           │\n",
       "│ 1-28 23:03 ┆       ┆            ┆            ┆   ┆          ┆            ┆           ┆           │\n",
       "│ :12.000000 ┆       ┆            ┆            ┆   ┆          ┆            ┆           ┆           │\n",
       "│ arn:aws:st ┆ 3     ┆ arn:aws:st ┆ arn:aws:st ┆ … ┆ null     ┆ null       ┆ null      ┆ null      │\n",
       "│ s::6537113 ┆       ┆ s::6537113 ┆ s::6537113 ┆   ┆          ┆            ┆           ┆           │\n",
       "│ 31788:assu ┆       ┆ 31788:assu ┆ 31788:assu ┆   ┆          ┆            ┆           ┆           │\n",
       "│ med-role/l ┆       ┆ med-role/l ┆ med-role/l ┆   ┆          ┆            ┆           ┆           │\n",
       "│ evel1/leve ┆       ┆ evel1/leve ┆ evel1/leve ┆   ┆          ┆            ┆           ┆           │\n",
       "│ l1__2018-1 ┆       ┆ l1         ┆ l1         ┆   ┆          ┆            ┆           ┆           │\n",
       "│ 1-28 23:03 ┆       ┆            ┆            ┆   ┆          ┆            ┆           ┆           │\n",
       "│ :12.000000 ┆       ┆            ┆            ┆   ┆          ┆            ┆           ┆           │\n",
       "│ …          ┆ …     ┆ …          ┆ …          ┆ … ┆ …        ┆ …          ┆ …         ┆ …         │\n",
       "│ source_ip: ┆ 1     ┆ source_ip: ┆ null       ┆ … ┆ False    ┆ [{\"account ┆ a63b106b- ┆ False     │\n",
       "│ apigateway ┆       ┆ apigateway ┆            ┆   ┆          ┆ Id\": \"6537 ┆ e331-4778 ┆           │\n",
       "│ .amazonaws ┆       ┆ .amazonaws ┆            ┆   ┆          ┆ 11331788\", ┆ -a6c0-64e ┆           │\n",
       "│ .com__2018 ┆       ┆ .com       ┆            ┆   ┆          ┆ \"type\":    ┆ 397216fde ┆           │\n",
       "│ -11-28 23: ┆       ┆            ┆            ┆   ┆          ┆ \"AWS::Lamb ┆           ┆           │\n",
       "│ 03:13.0000 ┆       ┆            ┆            ┆   ┆          ┆ da::Functi ┆           ┆           │\n",
       "│ 00         ┆       ┆            ┆            ┆   ┆          ┆ on\",       ┆           ┆           │\n",
       "│            ┆       ┆            ┆            ┆   ┆          ┆ \"ARN\":     ┆           ┆           │\n",
       "│            ┆       ┆            ┆            ┆   ┆          ┆ \"arn:aws:… ┆           ┆           │\n",
       "│ source_ip: ┆ 0     ┆ source_ip: ┆ null       ┆ … ┆ null     ┆ [{\"ARN\":   ┆ 1d18bf74- ┆ null      │\n",
       "│ ecs-tasks. ┆       ┆ ecs-tasks. ┆            ┆   ┆          ┆ \"arn:aws:i ┆ 8392-4496 ┆           │\n",
       "│ amazonaws. ┆       ┆ amazonaws. ┆            ┆   ┆          ┆ am::653711 ┆ -9dc4-a45 ┆           │\n",
       "│ com__2018- ┆       ┆ com        ┆            ┆   ┆          ┆ 331788:rol ┆ cb799b8b4 ┆           │\n",
       "│ 11-28 22:3 ┆       ┆            ┆            ┆   ┆          ┆ e/level3\", ┆           ┆           │\n",
       "│ 1:59.00000 ┆       ┆            ┆            ┆   ┆          ┆ \"accountId ┆           ┆           │\n",
       "│ 0          ┆       ┆            ┆            ┆   ┆          ┆ \": \"653711 ┆           ┆           │\n",
       "│            ┆       ┆            ┆            ┆   ┆          ┆ 331788\",   ┆           ┆           │\n",
       "│            ┆       ┆            ┆            ┆   ┆          ┆ \"…         ┆           ┆           │\n",
       "│ source_ip: ┆ 1     ┆ source_ip: ┆ null       ┆ … ┆ null     ┆ [{\"ARN\":   ┆ 5397e1a9- ┆ null      │\n",
       "│ ecs-tasks. ┆       ┆ ecs-tasks. ┆            ┆   ┆          ┆ \"arn:aws:i ┆ 82c7-4a00 ┆           │\n",
       "│ amazonaws. ┆       ┆ amazonaws. ┆            ┆   ┆          ┆ am::653711 ┆ -9b1c-e44 ┆           │\n",
       "│ com__2018- ┆       ┆ com        ┆            ┆   ┆          ┆ 331788:rol ┆ cbd688aa1 ┆           │\n",
       "│ 11-28 22:3 ┆       ┆            ┆            ┆   ┆          ┆ e/ecsTaskE ┆           ┆           │\n",
       "│ 1:59.00000 ┆       ┆            ┆            ┆   ┆          ┆ xecutionRo ┆           ┆           │\n",
       "│ 0          ┆       ┆            ┆            ┆   ┆          ┆ le\", \"acco ┆           ┆           │\n",
       "│            ┆       ┆            ┆            ┆   ┆          ┆ untId\":    ┆           ┆           │\n",
       "│            ┆       ┆            ┆            ┆   ┆          ┆ \"65…       ┆           ┆           │\n",
       "│ source_ip: ┆ 0     ┆ source_ip: ┆ null       ┆ … ┆ null     ┆ [{\"ARN\":   ┆ 420b178b- ┆ null      │\n",
       "│ lambda.ama ┆       ┆ lambda.ama ┆            ┆   ┆          ┆ \"arn:aws:i ┆ 5905-4158 ┆           │\n",
       "│ zonaws.com ┆       ┆ zonaws.com ┆            ┆   ┆          ┆ am::653711 ┆ -8db7-1cf ┆           │\n",
       "│ __2018-11- ┆       ┆            ┆            ┆   ┆          ┆ 331788:rol ┆ 56f799009 ┆           │\n",
       "│ 28 23:03:1 ┆       ┆            ┆            ┆   ┆          ┆ e/service- ┆           ┆           │\n",
       "│ 2.000000   ┆       ┆            ┆            ┆   ┆          ┆ role/level ┆           ┆           │\n",
       "│            ┆       ┆            ┆            ┆   ┆          ┆ 1\", \"accou ┆           ┆           │\n",
       "│            ┆       ┆            ┆            ┆   ┆          ┆ ntId\":     ┆           ┆           │\n",
       "│            ┆       ┆            ┆            ┆   ┆          ┆ \"653…      ┆           ┆           │\n",
       "└────────────┴───────┴────────────┴────────────┴───┴──────────┴────────────┴───────────┴───────────┘"
      ]
     },
     "execution_count": 28,
     "metadata": {},
     "output_type": "execute_result"
    }
   ],
   "source": [
    "every = \"4i\"\n",
    "entity_col = \"entity_id\"\n",
    "uuid_col = \"eventID\"  # Unique event ID column from Cloudtrail\n",
    "data = (\n",
    "    logs_with_ids.lazy()\n",
    "    # Perf: Pre-sort\n",
    "    .sort([entity_col, \"eventTime\"])\n",
    "    .set_sorted([entity_col, \"eventTime\"])\n",
    "    # Group into windows\n",
    "    .with_columns(pl.col(\"eventTime\").arg_sort().over(entity_col).cast(pl.Int64).alias(\"index\"))\n",
    "    .group_by_dynamic(\"index\", by=entity_col, every=every)\n",
    "    .agg(pl.all().exclude(\"index\"))\n",
    "    # Create window ID\n",
    "    .with_columns(pl.concat_str([entity_col, pl.col(\"eventTime\").list.first()], separator=\"__\").alias(\"window_id\"))\n",
    "    .with_columns(\n",
    "        pl.when(pl.col(\"window_id\").is_duplicated())\n",
    "        # Must use ANOTHER seperator (not just whitespace) to prevent duplicates\n",
    "        .then(pl.concat_str([pl.col(\"window_id\"), pl.col(uuid_col).list.first()], separator=\".\"))\n",
    "        .otherwise(pl.col(\"window_id\"))\n",
    "    )\n",
    "    # Reset index per window_id\n",
    "    .drop(\"index\")\n",
    "    .explode(pl.all().exclude(entity_col, \"window_id\"))\n",
    "    # Reset index to start from 1 over window groups\n",
    "    .with_columns(pl.col(\"eventTime\").arg_sort().cast(pl.Int64).over(\"window_id\").alias(\"index\"))\n",
    "    # Sort\n",
    "    .sort([\"window_id\", \"index\"])\n",
    "    .set_sorted([\"window_id\", \"index\"])\n",
    "    # Select relevant columns\n",
    "    # Unpack identity information from userIdentity JSON\n",
    "    .select([\n",
    "        # Window\n",
    "        \"window_id\",\n",
    "        \"index\",\n",
    "        # Entity\n",
    "        \"entity_id\",\n",
    "        \"arn\",\n",
    "        # Time\n",
    "        \"eventTime\",\n",
    "        # Original columns\n",
    "        *logs_with_ids.select(pl.all().exclude([\"entity_id\", \"arn\", \"eventTime\"])).columns\n",
    "    ])\n",
    "    .collect(streaming=True)\n",
    ")\n",
    "data"
   ]
  },
  {
   "cell_type": "code",
   "execution_count": 29,
   "id": "7d03b671-13b6-4332-8135-49e60a159ee3",
   "metadata": {},
   "outputs": [
    {
     "data": {
      "text/plain": [
       "13"
      ]
     },
     "execution_count": 29,
     "metadata": {},
     "output_type": "execute_result"
    }
   ],
   "source": [
    "# Check cardinality of windows\n",
    "data[\"window_id\"].n_unique()"
   ]
  },
  {
   "cell_type": "code",
   "execution_count": 30,
   "id": "cc54a1fc-2366-4ab9-b59a-312d639d6916",
   "metadata": {},
   "outputs": [
    {
     "data": {
      "text/html": [
       "<div><style>\n",
       ".dataframe > thead > tr > th,\n",
       ".dataframe > tbody > tr > td {\n",
       "  text-align: right;\n",
       "  white-space: pre-wrap;\n",
       "}\n",
       "</style>\n",
       "<small>shape: (3, 2)</small><table border=\"1\" class=\"dataframe\"><thead><tr><th>window_size</th><th>counts</th></tr><tr><td>u32</td><td>u32</td></tr></thead><tbody><tr><td>4</td><td>7</td></tr><tr><td>2</td><td>3</td></tr><tr><td>1</td><td>3</td></tr></tbody></table></div>"
      ],
      "text/plain": [
       "shape: (3, 2)\n",
       "┌─────────────┬────────┐\n",
       "│ window_size ┆ counts │\n",
       "│ ---         ┆ ---    │\n",
       "│ u32         ┆ u32    │\n",
       "╞═════════════╪════════╡\n",
       "│ 4           ┆ 7      │\n",
       "│ 2           ┆ 3      │\n",
       "│ 1           ┆ 3      │\n",
       "└─────────────┴────────┘"
      ]
     },
     "execution_count": 30,
     "metadata": {},
     "output_type": "execute_result"
    }
   ],
   "source": [
    "# Check window sizes are < every\n",
    "window_sizes = (\n",
    "    data[\"window_id\"].value_counts()\n",
    "    .sort(by=\"counts\")\n",
    "    .get_column(\"counts\")\n",
    "    .alias(\"window_size\")\n",
    "    .value_counts()\n",
    "    .sort(by=\"window_size\", descending=True)\n",
    ")\n",
    "window_sizes"
   ]
  },
  {
   "cell_type": "code",
   "execution_count": 31,
   "id": "ad71159e-8db5-4af5-bcd5-3e8d8b0b5707",
   "metadata": {},
   "outputs": [
    {
     "data": {
      "text/html": [
       "<div><style>\n",
       ".dataframe > thead > tr > th,\n",
       ".dataframe > tbody > tr > td {\n",
       "  text-align: right;\n",
       "  white-space: pre-wrap;\n",
       "}\n",
       "</style>\n",
       "<small>shape: (6, 2)</small><table border=\"1\" class=\"dataframe\"><thead><tr><th>entity_id</th><th>counts</th></tr><tr><td>str</td><td>u32</td></tr></thead><tbody><tr><td>&quot;source_ip:104.102.221.250&quot;</td><td>22</td></tr><tr><td>&quot;arn:aws:sts::653711331788:assumed-role/level1/level1&quot;</td><td>9</td></tr><tr><td>&quot;source_ip:ecs-tasks.amazonaws.com&quot;</td><td>2</td></tr><tr><td>&quot;source_ip:apigateway.amazonaws.com&quot;</td><td>2</td></tr><tr><td>&quot;arn:aws:sts::653711331788:assumed-role/level3/d190d14a-2404-45d6-9113-4eda22d7f…</td><td>1</td></tr><tr><td>&quot;source_ip:lambda.amazonaws.com&quot;</td><td>1</td></tr></tbody></table></div>"
      ],
      "text/plain": [
       "shape: (6, 2)\n",
       "┌───────────────────────────────────────────────────────────────────────────────────┬────────┐\n",
       "│ entity_id                                                                         ┆ counts │\n",
       "│ ---                                                                               ┆ ---    │\n",
       "│ str                                                                               ┆ u32    │\n",
       "╞═══════════════════════════════════════════════════════════════════════════════════╪════════╡\n",
       "│ source_ip:104.102.221.250                                                         ┆ 22     │\n",
       "│ arn:aws:sts::653711331788:assumed-role/level1/level1                              ┆ 9      │\n",
       "│ source_ip:ecs-tasks.amazonaws.com                                                 ┆ 2      │\n",
       "│ source_ip:apigateway.amazonaws.com                                                ┆ 2      │\n",
       "│ arn:aws:sts::653711331788:assumed-role/level3/d190d14a-2404-45d6-9113-4eda22d7f2… ┆ 1      │\n",
       "│ source_ip:lambda.amazonaws.com                                                    ┆ 1      │\n",
       "└───────────────────────────────────────────────────────────────────────────────────┴────────┘"
      ]
     },
     "execution_count": 31,
     "metadata": {},
     "output_type": "execute_result"
    }
   ],
   "source": [
    "# Visualize distribution of events from entities\n",
    "data.get_column(\"entity_id\").value_counts().sort(\"counts\", descending=True)"
   ]
  },
  {
   "cell_type": "markdown",
   "id": "550e44a2-118c-4041-be9c-aaf5e788a98c",
   "metadata": {},
   "source": [
    "## Detection Alerts / Queries\n",
    "\n",
    "- Root-access attempts\n",
    "- Steals secrets from Secrets Manager\n",
    "- Sign-in errors via AWS Console\n",
    "- Bruteforce `AssumeRole` attempts\n",
    "- CloudTrail tampering\n",
    "- GuardDuty tampering\n",
    "- Listing buckets\n",
    "- Get S3 objects via web browser"
   ]
  },
  {
   "cell_type": "code",
   "execution_count": 34,
   "id": "2d09ba55-2d06-4577-b47c-4d8084129f88",
   "metadata": {},
   "outputs": [],
   "source": [
    "DETECTION_ALERTS = {}"
   ]
  },
  {
   "cell_type": "markdown",
   "id": "36602ef6-b125-4ede-bab9-2e62a80f413d",
   "metadata": {},
   "source": [
    "### Root-access attempts\n",
    "- Tactic: Priviledge Escalation (TA0004)\n",
    "- Technique: Valid Accounts (T1078)"
   ]
  },
  {
   "cell_type": "code",
   "execution_count": 35,
   "id": "cccbfc4e-1356-4136-a4d8-2c8374e590e3",
   "metadata": {
    "scrolled": true
   },
   "outputs": [
    {
     "data": {
      "text/html": [
       "<div><style>\n",
       ".dataframe > thead > tr > th,\n",
       ".dataframe > tbody > tr > td {\n",
       "  text-align: right;\n",
       "  white-space: pre-wrap;\n",
       "}\n",
       "</style>\n",
       "<small>shape: (0, 1)</small><table border=\"1\" class=\"dataframe\"><thead><tr><th>window_id</th></tr><tr><td>str</td></tr></thead><tbody></tbody></table></div>"
      ],
      "text/plain": [
       "shape: (0, 1)\n",
       "┌───────────┐\n",
       "│ window_id │\n",
       "│ ---       │\n",
       "│ str       │\n",
       "╞═══════════╡\n",
       "└───────────┘"
      ]
     },
     "execution_count": 35,
     "metadata": {},
     "output_type": "execute_result"
    }
   ],
   "source": [
    "query = (\n",
    "    data.lazy()\n",
    "    .filter(\n",
    "        (pl.col(\"eventName\") == \"ConsoleLogin\") &\n",
    "        (pl.col(\"userIdentity\").str.contains(\"Root\"))\n",
    "    )\n",
    "    .select(\"window_id\")\n",
    "    .unique()\n",
    ")\n",
    "result = query.collect(streaming=True)\n",
    "DETECTION_ALERTS[\"TA0004.T1078.root\"] = result\n",
    "result"
   ]
  },
  {
   "cell_type": "markdown",
   "id": "cdb286fa-85b2-4039-8fe0-ad646e239ef5",
   "metadata": {},
   "source": [
    "### Sign-in errors via AWS Console\n",
    "- Tactic: Credential Access (TA0006)\n",
    "- Technique: Brute Force (T11100)"
   ]
  },
  {
   "cell_type": "code",
   "execution_count": 36,
   "id": "3ee91307-2069-49a7-abfc-eac324f18c4f",
   "metadata": {},
   "outputs": [
    {
     "data": {
      "text/html": [
       "<div><style>\n",
       ".dataframe > thead > tr > th,\n",
       ".dataframe > tbody > tr > td {\n",
       "  text-align: right;\n",
       "  white-space: pre-wrap;\n",
       "}\n",
       "</style>\n",
       "<small>shape: (0, 1)</small><table border=\"1\" class=\"dataframe\"><thead><tr><th>window_id</th></tr><tr><td>str</td></tr></thead><tbody></tbody></table></div>"
      ],
      "text/plain": [
       "shape: (0, 1)\n",
       "┌───────────┐\n",
       "│ window_id │\n",
       "│ ---       │\n",
       "│ str       │\n",
       "╞═══════════╡\n",
       "└───────────┘"
      ]
     },
     "execution_count": 36,
     "metadata": {},
     "output_type": "execute_result"
    }
   ],
   "source": [
    "query = (\n",
    "    data.lazy()\n",
    "    .filter(\n",
    "        (pl.col(\"eventSource\") == \"signin.amazonaws.com\") &\n",
    "        (pl.col(\"eventName\") == \"ConsoleLogin\") &\n",
    "        (pl.col(\"responseElements\").str.to_lowercase().str.contains(\"fail\"))\n",
    "    )\n",
    "    .select(\"window_id\")\n",
    "    .unique()\n",
    ")\n",
    "result = query.collect(streaming=True)\n",
    "DETECTION_ALERTS[\"TA0006.T11100.sign_in_errors\"] = result\n",
    "result"
   ]
  },
  {
   "cell_type": "markdown",
   "id": "48fad76e-ca3b-4334-a7c2-6427da7634ea",
   "metadata": {},
   "source": [
    "### Secrets from Secrets Manager\n",
    "- Tactic: Credential Access (TA0006)\n",
    "- Technique: Steal Application Access Token (T1528)"
   ]
  },
  {
   "cell_type": "code",
   "execution_count": 37,
   "id": "dcc2278a-1ec8-4602-935c-898e652bf8f4",
   "metadata": {},
   "outputs": [
    {
     "data": {
      "text/html": [
       "<div><style>\n",
       ".dataframe > thead > tr > th,\n",
       ".dataframe > tbody > tr > td {\n",
       "  text-align: right;\n",
       "  white-space: pre-wrap;\n",
       "}\n",
       "</style>\n",
       "<small>shape: (0, 1)</small><table border=\"1\" class=\"dataframe\"><thead><tr><th>window_id</th></tr><tr><td>str</td></tr></thead><tbody></tbody></table></div>"
      ],
      "text/plain": [
       "shape: (0, 1)\n",
       "┌───────────┐\n",
       "│ window_id │\n",
       "│ ---       │\n",
       "│ str       │\n",
       "╞═══════════╡\n",
       "└───────────┘"
      ]
     },
     "execution_count": 37,
     "metadata": {},
     "output_type": "execute_result"
    }
   ],
   "source": [
    "query = (\n",
    "    data.lazy()\n",
    "    .filter(pl.col(\"eventName\") == \"GetSecretValue\")\n",
    "    .select(\"window_id\")\n",
    "    .unique()\n",
    ")\n",
    "result = query.collect(streaming=True)\n",
    "DETECTION_ALERTS[\"TA0006.T1528.secrets_manager\"] = result\n",
    "result"
   ]
  },
  {
   "cell_type": "markdown",
   "id": "0a7a9c7a-5ba6-4f1d-b125-fccb4808c9a4",
   "metadata": {},
   "source": [
    "### Bruteforce `AssumeRole` attempts\n",
    "- Tactic: Credential Access (TA0006)\n",
    "- Tactic: Brute Force (T1110)"
   ]
  },
  {
   "cell_type": "code",
   "execution_count": 38,
   "id": "4f485150-80e3-4903-bebe-3fc6c446f38c",
   "metadata": {},
   "outputs": [
    {
     "data": {
      "text/html": [
       "<div><style>\n",
       ".dataframe > thead > tr > th,\n",
       ".dataframe > tbody > tr > td {\n",
       "  text-align: right;\n",
       "  white-space: pre-wrap;\n",
       "}\n",
       "</style>\n",
       "<small>shape: (0, 1)</small><table border=\"1\" class=\"dataframe\"><thead><tr><th>window_id</th></tr><tr><td>str</td></tr></thead><tbody></tbody></table></div>"
      ],
      "text/plain": [
       "shape: (0, 1)\n",
       "┌───────────┐\n",
       "│ window_id │\n",
       "│ ---       │\n",
       "│ str       │\n",
       "╞═══════════╡\n",
       "└───────────┘"
      ]
     },
     "execution_count": 38,
     "metadata": {},
     "output_type": "execute_result"
    }
   ],
   "source": [
    "event_blacklist =  [\n",
    "    \"AssumeRole\",\n",
    "    \"AssumeRoleWithSAML\",\n",
    "    \"AssumeRoleWithWebIdentity\"\n",
    "]\n",
    "query = (\n",
    "    data.lazy()\n",
    "    .filter(\n",
    "        (pl.col(\"eventSource\").str.contains(\"sts.amazonaws.com\")) &\n",
    "        (pl.col(\"eventName\").str.contains(\"|\".join(event_blacklist))) &\n",
    "        (pl.col(\"errorCode\").str.contains(\"Denied\"))\n",
    "    )\n",
    "    .select(\"window_id\")\n",
    "    .unique()\n",
    ")\n",
    "result = query.collect(streaming=True)\n",
    "DETECTION_ALERTS[\"TA0006.T1110.brute_assume_role\"] = result\n",
    "result"
   ]
  },
  {
   "cell_type": "markdown",
   "id": "4b657821-6590-4372-a06a-dc6f6fb01be8",
   "metadata": {},
   "source": [
    "### CloudTrail tampering\n",
    "- Tactic: Defense Evasion (TA0005)\n",
    "- Technique: Impair Defenses (T1562)"
   ]
  },
  {
   "cell_type": "code",
   "execution_count": 39,
   "id": "2b77c7cd-2a0e-4fc0-a724-0cf4090bba95",
   "metadata": {},
   "outputs": [
    {
     "data": {
      "text/html": [
       "<div><style>\n",
       ".dataframe > thead > tr > th,\n",
       ".dataframe > tbody > tr > td {\n",
       "  text-align: right;\n",
       "  white-space: pre-wrap;\n",
       "}\n",
       "</style>\n",
       "<small>shape: (0, 1)</small><table border=\"1\" class=\"dataframe\"><thead><tr><th>window_id</th></tr><tr><td>str</td></tr></thead><tbody></tbody></table></div>"
      ],
      "text/plain": [
       "shape: (0, 1)\n",
       "┌───────────┐\n",
       "│ window_id │\n",
       "│ ---       │\n",
       "│ str       │\n",
       "╞═══════════╡\n",
       "└───────────┘"
      ]
     },
     "execution_count": 39,
     "metadata": {},
     "output_type": "execute_result"
    }
   ],
   "source": [
    "event_blacklist =  [\n",
    "    \"DeleteTrail\",\n",
    "    \"StopLogging\",\n",
    "    \"UpdateTrail\"\n",
    "]\n",
    "query = (\n",
    "    data.lazy()\n",
    "    .filter(pl.col(\"eventName\").str.contains(\"|\".join(event_blacklist)))\n",
    "    .select(\"window_id\")\n",
    "    .unique()\n",
    ")\n",
    "result = query.collect(streaming=True)\n",
    "DETECTION_ALERTS[\"TA0005.T1562.cloudtrail\"] = result\n",
    "result"
   ]
  },
  {
   "cell_type": "markdown",
   "id": "1f81e530-3819-4fd8-b948-610015807d65",
   "metadata": {},
   "source": [
    "### GuardDuty tampering\n",
    "- Tactic: Defense Evasion (TA0005)\n",
    "- Technique: Impair Defenses (T1562)"
   ]
  },
  {
   "cell_type": "code",
   "execution_count": 40,
   "id": "7a403cd2-b68c-408a-88c5-00aa15c92e79",
   "metadata": {},
   "outputs": [
    {
     "data": {
      "text/html": [
       "<div><style>\n",
       ".dataframe > thead > tr > th,\n",
       ".dataframe > tbody > tr > td {\n",
       "  text-align: right;\n",
       "  white-space: pre-wrap;\n",
       "}\n",
       "</style>\n",
       "<small>shape: (0, 1)</small><table border=\"1\" class=\"dataframe\"><thead><tr><th>window_id</th></tr><tr><td>str</td></tr></thead><tbody></tbody></table></div>"
      ],
      "text/plain": [
       "shape: (0, 1)\n",
       "┌───────────┐\n",
       "│ window_id │\n",
       "│ ---       │\n",
       "│ str       │\n",
       "╞═══════════╡\n",
       "└───────────┘"
      ]
     },
     "execution_count": 40,
     "metadata": {},
     "output_type": "execute_result"
    }
   ],
   "source": [
    "event_blacklist =  [\n",
    "    \"DeleteDetector\",\n",
    "    \"DeleteMembers\",\n",
    "    \"DeletePublishingDestination\",\n",
    "    \"DisassociateMembers\",\n",
    "    \"DisassociateFromMasterAccount\",\n",
    "    \"RemoveTargets\",\n",
    "    \"StopMonitoringMembers\"\n",
    "]\n",
    "query = (\n",
    "    data.lazy()\n",
    "    .filter(pl.col(\"eventName\").str.contains(\"|\".join(event_blacklist)))\n",
    "    .select(\"window_id\")\n",
    "    .unique()\n",
    ")\n",
    "result = query.collect(streaming=True)\n",
    "DETECTION_ALERTS[\"TA0005.T1562.guardduty\"] = result\n",
    "result"
   ]
  },
  {
   "cell_type": "markdown",
   "id": "be3e5c66-313e-4eb2-a2d9-8c127a371d37",
   "metadata": {},
   "source": [
    "### List Buckets from non AWS IP\n",
    "- Tactic: Discovery (TA0007)\n",
    "- Technique: Cloud Storage Object Discovery (T1619)\n",
    "\n"
   ]
  },
  {
   "cell_type": "code",
   "execution_count": 41,
   "id": "c008961d-ca25-44b2-b12b-2748da6510e9",
   "metadata": {
    "scrolled": true
   },
   "outputs": [
    {
     "data": {
      "text/html": [
       "<div><style>\n",
       ".dataframe > thead > tr > th,\n",
       ".dataframe > tbody > tr > td {\n",
       "  text-align: right;\n",
       "  white-space: pre-wrap;\n",
       "}\n",
       "</style>\n",
       "<small>shape: (0, 1)</small><table border=\"1\" class=\"dataframe\"><thead><tr><th>window_id</th></tr><tr><td>str</td></tr></thead><tbody></tbody></table></div>"
      ],
      "text/plain": [
       "shape: (0, 1)\n",
       "┌───────────┐\n",
       "│ window_id │\n",
       "│ ---       │\n",
       "│ str       │\n",
       "╞═══════════╡\n",
       "└───────────┘"
      ]
     },
     "execution_count": 41,
     "metadata": {},
     "output_type": "execute_result"
    }
   ],
   "source": [
    "event_blacklist =  [\n",
    "    \"ListBuckets\",\n",
    "    \"GetBucketAcl\",\n",
    "    \"GetBucketVersioning\",\n",
    "]\n",
    "query = (\n",
    "    data.lazy()\n",
    "    .filter(\n",
    "        (pl.col(\"entity_id\").str.contains(\"Level6\")) &  # TODO: Obviously not going to work in production\n",
    "        (pl.col(\"userAgent\").str.contains(\"kali\")) &\n",
    "        (pl.col(\"eventName\").str.contains(\"|\".join(event_blacklist)))\n",
    "    )\n",
    "    .select(\"window_id\")\n",
    "    .unique()\n",
    ")\n",
    "result = query.collect(streaming=True)\n",
    "DETECTION_ALERTS[\"TA0007.T1619.list_buckets\"] = result\n",
    "result"
   ]
  },
  {
   "cell_type": "markdown",
   "id": "3a7f30ec-42ab-4651-aebf-348e843ce8a8",
   "metadata": {},
   "source": [
    "## Exfiltrate S3 objects via web browser\n",
    "- Tactic: Exfiltration (TA0010)\n",
    "- Technique: Over Web Service (T1567)"
   ]
  },
  {
   "cell_type": "code",
   "execution_count": 42,
   "id": "32135f3b-87e2-4e53-bd11-4c85ef2fc74c",
   "metadata": {},
   "outputs": [
    {
     "data": {
      "text/html": [
       "<div><style>\n",
       ".dataframe > thead > tr > th,\n",
       ".dataframe > tbody > tr > td {\n",
       "  text-align: right;\n",
       "  white-space: pre-wrap;\n",
       "}\n",
       "</style>\n",
       "<small>shape: (0, 1)</small><table border=\"1\" class=\"dataframe\"><thead><tr><th>window_id</th></tr><tr><td>str</td></tr></thead><tbody></tbody></table></div>"
      ],
      "text/plain": [
       "shape: (0, 1)\n",
       "┌───────────┐\n",
       "│ window_id │\n",
       "│ ---       │\n",
       "│ str       │\n",
       "╞═══════════╡\n",
       "└───────────┘"
      ]
     },
     "execution_count": 42,
     "metadata": {},
     "output_type": "execute_result"
    }
   ],
   "source": [
    "event_blacklist =  [\n",
    "    \"PutBucketPolicy\",\n",
    "    \"PutBucketAcl\",\n",
    "]\n",
    "query = (\n",
    "    data.lazy()\n",
    "    .filter(\n",
    "        (pl.col(\"entity_id\").str.contains(\"Level6\")) &  # TODO: Obviously not going to work in production\n",
    "        (pl.col(\"eventName\").str.contains(\"|\".join(event_blacklist)))\n",
    "    )\n",
    "    .select(\"window_id\")\n",
    "    .unique()\n",
    ")\n",
    "result = query.collect(streaming=True)\n",
    "DETECTION_ALERTS[\"TA0010.T1567.put_policy_acl\"] = result\n",
    "result"
   ]
  },
  {
   "cell_type": "markdown",
   "id": "defb425c-6767-42a6-a2a9-83590e8008c1",
   "metadata": {},
   "source": [
    "## Combine Detection Alerts"
   ]
  },
  {
   "cell_type": "code",
   "execution_count": 43,
   "id": "bbc17e2d-5a53-4012-ac4b-2213431fd4f1",
   "metadata": {},
   "outputs": [
    {
     "data": {
      "text/html": [
       "<div><style>\n",
       ".dataframe > thead > tr > th,\n",
       ".dataframe > tbody > tr > td {\n",
       "  text-align: right;\n",
       "  white-space: pre-wrap;\n",
       "}\n",
       "</style>\n",
       "<small>shape: (0, 2)</small><table border=\"1\" class=\"dataframe\"><thead><tr><th>window_id</th><th>rule_id</th></tr><tr><td>str</td><td>str</td></tr></thead><tbody></tbody></table></div>"
      ],
      "text/plain": [
       "shape: (0, 2)\n",
       "┌───────────┬─────────┐\n",
       "│ window_id ┆ rule_id │\n",
       "│ ---       ┆ ---     │\n",
       "│ str       ┆ str     │\n",
       "╞═══════════╪═════════╡\n",
       "└───────────┴─────────┘"
      ]
     },
     "execution_count": 43,
     "metadata": {},
     "output_type": "execute_result"
    }
   ],
   "source": [
    "alerts = pl.concat([\n",
    "    df.with_columns(pl.lit(rule_id).alias(\"rule_id\"))\n",
    "    for rule_id, df in DETECTION_ALERTS.items()\n",
    "])\n",
    "alerts"
   ]
  },
  {
   "cell_type": "code",
   "execution_count": 44,
   "id": "319def42-2ed6-4fd8-bb6a-9848e1714678",
   "metadata": {},
   "outputs": [
    {
     "ename": "NameError",
     "evalue": "name 'results' is not defined",
     "output_type": "error",
     "traceback": [
      "\u001b[0;31m---------------------------------------------------------------------------\u001b[0m",
      "\u001b[0;31mNameError\u001b[0m                                 Traceback (most recent call last)",
      "Cell \u001b[0;32mIn[44], line 2\u001b[0m\n\u001b[1;32m      1\u001b[0m \u001b[38;5;66;03m# Export\u001b[39;00m\n\u001b[0;32m----> 2\u001b[0m \u001b[43mresults\u001b[49m\u001b[38;5;241m.\u001b[39mwrite_parquet(\u001b[38;5;124m\"\u001b[39m\u001b[38;5;124m../results/aws_flaws_alerts.parquet\u001b[39m\u001b[38;5;124m\"\u001b[39m)\n",
      "\u001b[0;31mNameError\u001b[0m: name 'results' is not defined"
     ]
    }
   ],
   "source": [
    "# Export\n",
    "alerts.write_parquet(\"../results/aws_flaws_2_alerts.parquet\")"
   ]
  },
  {
   "cell_type": "markdown",
   "id": "843bb952-b09f-4f05-b374-8d9c5a985f8a",
   "metadata": {},
   "source": [
    "## Prepare (entity, time, log) Panel"
   ]
  },
  {
   "cell_type": "code",
   "execution_count": 28,
   "id": "13334738-37f9-406b-9ad1-67c66186dd77",
   "metadata": {},
   "outputs": [
    {
     "data": {
      "text/html": [
       "<div><style>\n",
       ".dataframe > thead > tr > th,\n",
       ".dataframe > tbody > tr > td {\n",
       "  text-align: right;\n",
       "  white-space: pre-wrap;\n",
       "}\n",
       "</style>\n",
       "<small>shape: (1_939_207, 9)</small><table border=\"1\" class=\"dataframe\"><thead><tr><th>window_id</th><th>entity_id</th><th>index</th><th>eventTime</th><th>duration</th><th>log</th><th>eventName</th><th>aws_service</th><th>errorMessage</th></tr><tr><td>str</td><td>str</td><td>i64</td><td>datetime[μs, UTC]</td><td>i32</td><td>str</td><td>str</td><td>str</td><td>str</td></tr></thead><tbody><tr><td>&quot;arn:aws:iam::811596193553:root__2017-02-12 19:57:06.000000&quot;</td><td>&quot;arn:aws:iam::811596193553:root&quot;</td><td>0</td><td>2017-02-12 19:57:06 UTC</td><td>0</td><td>&quot;ListBuckets&quot;</td><td>&quot;ListBuckets&quot;</td><td>&quot;s3&quot;</td><td>null</td></tr><tr><td>&quot;arn:aws:iam::811596193553:root__2017-02-12 19:57:06.000000&quot;</td><td>&quot;arn:aws:iam::811596193553:root&quot;</td><td>1</td><td>2017-02-12 19:59:10 UTC</td><td>1240</td><td>&quot;GetAccountPasswordPolicy: The Password Policy with domain name 811596193553 can…</td><td>&quot;GetAccountPasswordPolicy&quot;</td><td>&quot;console&quot;</td><td>&quot;The Password Policy with domain name 811596193553 cannot be found.&quot;</td></tr><tr><td>&quot;arn:aws:iam::811596193553:root__2017-02-12 19:57:06.000000&quot;</td><td>&quot;arn:aws:iam::811596193553:root&quot;</td><td>2</td><td>2017-02-12 19:59:10 UTC</td><td>0</td><td>&quot;GetAccountSummary&quot;</td><td>&quot;GetAccountSummary&quot;</td><td>&quot;console&quot;</td><td>null</td></tr><tr><td>&quot;arn:aws:iam::811596193553:root__2017-02-12 19:57:06.000000&quot;</td><td>&quot;arn:aws:iam::811596193553:root&quot;</td><td>3</td><td>2017-02-12 19:59:10 UTC</td><td>0</td><td>&quot;ListAccountAliases&quot;</td><td>&quot;ListAccountAliases&quot;</td><td>&quot;console&quot;</td><td>null</td></tr><tr><td>&quot;arn:aws:iam::811596193553:root__2017-02-12 19:57:06.000000&quot;</td><td>&quot;arn:aws:iam::811596193553:root&quot;</td><td>4</td><td>2017-02-12 19:59:10 UTC</td><td>0</td><td>&quot;ListMFADevices&quot;</td><td>&quot;ListMFADevices&quot;</td><td>&quot;console&quot;</td><td>null</td></tr><tr><td>&quot;arn:aws:iam::811596193553:root__2017-02-12 19:57:06.000000&quot;</td><td>&quot;arn:aws:iam::811596193553:root&quot;</td><td>5</td><td>2017-02-12 19:59:10 UTC</td><td>0</td><td>&quot;ListAccessKeys&quot;</td><td>&quot;ListAccessKeys&quot;</td><td>&quot;console&quot;</td><td>null</td></tr><tr><td>&quot;arn:aws:iam::811596193553:root__2017-02-12 19:57:06.000000&quot;</td><td>&quot;arn:aws:iam::811596193553:root&quot;</td><td>6</td><td>2017-02-12 19:59:10 UTC</td><td>0</td><td>&quot;ListAccessKeys&quot;</td><td>&quot;ListAccessKeys&quot;</td><td>&quot;console&quot;</td><td>null</td></tr><tr><td>&quot;arn:aws:iam::811596193553:root__2017-02-12 19:57:06.000000&quot;</td><td>&quot;arn:aws:iam::811596193553:root&quot;</td><td>7</td><td>2017-02-12 19:59:10 UTC</td><td>0</td><td>&quot;GetAccountPasswordPolicy: The Password Policy with domain name 811596193553 can…</td><td>&quot;GetAccountPasswordPolicy&quot;</td><td>&quot;console&quot;</td><td>&quot;The Password Policy with domain name 811596193553 cannot be found.&quot;</td></tr><tr><td>&quot;arn:aws:iam::811596193553:root__2017-02-12 19:57:06.000000&quot;</td><td>&quot;arn:aws:iam::811596193553:root&quot;</td><td>8</td><td>2017-02-12 19:59:10 UTC</td><td>0</td><td>&quot;GetAccountSummary&quot;</td><td>&quot;GetAccountSummary&quot;</td><td>&quot;console&quot;</td><td>null</td></tr><tr><td>&quot;arn:aws:iam::811596193553:root__2017-02-12 19:57:06.000000&quot;</td><td>&quot;arn:aws:iam::811596193553:root&quot;</td><td>9</td><td>2017-02-12 19:59:10 UTC</td><td>0</td><td>&quot;ListAccountAliases&quot;</td><td>&quot;ListAccountAliases&quot;</td><td>&quot;console&quot;</td><td>null</td></tr><tr><td>&quot;arn:aws:iam::811596193553:root__2017-02-12 19:57:06.000000&quot;</td><td>&quot;arn:aws:iam::811596193553:root&quot;</td><td>10</td><td>2017-02-12 19:59:10 UTC</td><td>0</td><td>&quot;ListMFADevices&quot;</td><td>&quot;ListMFADevices&quot;</td><td>&quot;console&quot;</td><td>null</td></tr><tr><td>&quot;arn:aws:iam::811596193553:root__2017-02-12 19:57:06.000000&quot;</td><td>&quot;arn:aws:iam::811596193553:root&quot;</td><td>11</td><td>2017-02-12 20:02:34 UTC</td><td>2040</td><td>&quot;DescribeTrails&quot;</td><td>&quot;DescribeTrails&quot;</td><td>&quot;console&quot;</td><td>null</td></tr><tr><td>&hellip;</td><td>&hellip;</td><td>&hellip;</td><td>&hellip;</td><td>&hellip;</td><td>&hellip;</td><td>&hellip;</td><td>&hellip;</td><td>&hellip;</td></tr><tr><td>&quot;source_ip:support.amazonaws.com__2019-08-21 08:10:29.000000&quot;</td><td>&quot;source_ip:support.amazonaws.com&quot;</td><td>48</td><td>2019-09-30 09:24:36 UTC</td><td>10</td><td>&quot;AssumeRole&quot;</td><td>&quot;AssumeRole&quot;</td><td>&quot;support&quot;</td><td>null</td></tr><tr><td>&quot;source_ip:support.amazonaws.com__2019-08-21 08:10:29.000000&quot;</td><td>&quot;source_ip:support.amazonaws.com&quot;</td><td>49</td><td>2019-09-30 09:24:36 UTC</td><td>0</td><td>&quot;AssumeRole&quot;</td><td>&quot;AssumeRole&quot;</td><td>&quot;support&quot;</td><td>null</td></tr><tr><td>&quot;source_ip:support.amazonaws.com__2019-08-21 08:10:29.000000&quot;</td><td>&quot;source_ip:support.amazonaws.com&quot;</td><td>50</td><td>2019-09-30 09:24:36 UTC</td><td>0</td><td>&quot;AssumeRole&quot;</td><td>&quot;AssumeRole&quot;</td><td>&quot;support&quot;</td><td>null</td></tr><tr><td>&quot;source_ip:support.amazonaws.com__2019-08-21 08:10:29.000000&quot;</td><td>&quot;source_ip:support.amazonaws.com&quot;</td><td>51</td><td>2019-09-30 09:24:36 UTC</td><td>0</td><td>&quot;AssumeRole&quot;</td><td>&quot;AssumeRole&quot;</td><td>&quot;support&quot;</td><td>null</td></tr><tr><td>&quot;source_ip:support.amazonaws.com__2019-08-21 08:10:29.000000&quot;</td><td>&quot;source_ip:support.amazonaws.com&quot;</td><td>52</td><td>2019-09-30 09:24:36 UTC</td><td>0</td><td>&quot;AssumeRole&quot;</td><td>&quot;AssumeRole&quot;</td><td>&quot;support&quot;</td><td>null</td></tr><tr><td>&quot;source_ip:support.amazonaws.com__2019-08-21 08:10:29.000000&quot;</td><td>&quot;source_ip:support.amazonaws.com&quot;</td><td>53</td><td>2019-09-30 09:24:36 UTC</td><td>0</td><td>&quot;AssumeRole&quot;</td><td>&quot;AssumeRole&quot;</td><td>&quot;support&quot;</td><td>null</td></tr><tr><td>&quot;source_ip:support.amazonaws.com__2019-08-21 08:10:29.000000&quot;</td><td>&quot;source_ip:support.amazonaws.com&quot;</td><td>54</td><td>2019-09-30 09:24:37 UTC</td><td>10</td><td>&quot;AssumeRole&quot;</td><td>&quot;AssumeRole&quot;</td><td>&quot;support&quot;</td><td>null</td></tr><tr><td>&quot;source_ip:support.amazonaws.com__2019-08-21 08:10:29.000000&quot;</td><td>&quot;source_ip:support.amazonaws.com&quot;</td><td>55</td><td>2019-09-30 09:24:37 UTC</td><td>0</td><td>&quot;AssumeRole&quot;</td><td>&quot;AssumeRole&quot;</td><td>&quot;support&quot;</td><td>null</td></tr><tr><td>&quot;source_ip:support.amazonaws.com__2019-08-21 08:10:29.000000&quot;</td><td>&quot;source_ip:support.amazonaws.com&quot;</td><td>56</td><td>2019-09-30 09:24:37 UTC</td><td>0</td><td>&quot;AssumeRole&quot;</td><td>&quot;AssumeRole&quot;</td><td>&quot;support&quot;</td><td>null</td></tr><tr><td>&quot;source_ip:support.amazonaws.com__2019-08-21 08:10:29.000000&quot;</td><td>&quot;source_ip:support.amazonaws.com&quot;</td><td>57</td><td>2019-09-30 09:24:38 UTC</td><td>10</td><td>&quot;AssumeRole&quot;</td><td>&quot;AssumeRole&quot;</td><td>&quot;support&quot;</td><td>null</td></tr><tr><td>&quot;source_ip:support.amazonaws.com__2019-08-21 08:10:29.000000&quot;</td><td>&quot;source_ip:support.amazonaws.com&quot;</td><td>58</td><td>2019-09-30 09:24:38 UTC</td><td>0</td><td>&quot;AssumeRole&quot;</td><td>&quot;AssumeRole&quot;</td><td>&quot;support&quot;</td><td>null</td></tr><tr><td>&quot;source_ip:support.amazonaws.com__2019-08-21 08:10:29.000000&quot;</td><td>&quot;source_ip:support.amazonaws.com&quot;</td><td>59</td><td>2019-09-30 09:24:39 UTC</td><td>10</td><td>&quot;AssumeRole&quot;</td><td>&quot;AssumeRole&quot;</td><td>&quot;support&quot;</td><td>null</td></tr></tbody></table></div>"
      ],
      "text/plain": [
       "shape: (1_939_207, 9)\n",
       "┌────────────┬────────────┬───────┬────────────┬───┬───────────┬───────────┬───────────┬───────────┐\n",
       "│ window_id  ┆ entity_id  ┆ index ┆ eventTime  ┆ … ┆ log       ┆ eventName ┆ aws_servi ┆ errorMess │\n",
       "│ ---        ┆ ---        ┆ ---   ┆ ---        ┆   ┆ ---       ┆ ---       ┆ ce        ┆ age       │\n",
       "│ str        ┆ str        ┆ i64   ┆ datetime[μ ┆   ┆ str       ┆ str       ┆ ---       ┆ ---       │\n",
       "│            ┆            ┆       ┆ s, UTC]    ┆   ┆           ┆           ┆ str       ┆ str       │\n",
       "╞════════════╪════════════╪═══════╪════════════╪═══╪═══════════╪═══════════╪═══════════╪═══════════╡\n",
       "│ arn:aws:ia ┆ arn:aws:ia ┆ 0     ┆ 2017-02-12 ┆ … ┆ ListBucke ┆ ListBucke ┆ s3        ┆ null      │\n",
       "│ m::8115961 ┆ m::8115961 ┆       ┆ 19:57:06   ┆   ┆ ts        ┆ ts        ┆           ┆           │\n",
       "│ 93553:root ┆ 93553:root ┆       ┆ UTC        ┆   ┆           ┆           ┆           ┆           │\n",
       "│ __2017-02- ┆            ┆       ┆            ┆   ┆           ┆           ┆           ┆           │\n",
       "│ 12 19:57:0 ┆            ┆       ┆            ┆   ┆           ┆           ┆           ┆           │\n",
       "│ 6.000000   ┆            ┆       ┆            ┆   ┆           ┆           ┆           ┆           │\n",
       "│ arn:aws:ia ┆ arn:aws:ia ┆ 1     ┆ 2017-02-12 ┆ … ┆ GetAccoun ┆ GetAccoun ┆ console   ┆ The       │\n",
       "│ m::8115961 ┆ m::8115961 ┆       ┆ 19:59:10   ┆   ┆ tPassword ┆ tPassword ┆           ┆ Password  │\n",
       "│ 93553:root ┆ 93553:root ┆       ┆ UTC        ┆   ┆ Policy:   ┆ Policy    ┆           ┆ Policy    │\n",
       "│ __2017-02- ┆            ┆       ┆            ┆   ┆ The       ┆           ┆           ┆ with      │\n",
       "│ 12 19:57:0 ┆            ┆       ┆            ┆   ┆ Password  ┆           ┆           ┆ domain    │\n",
       "│ 6.000000   ┆            ┆       ┆            ┆   ┆ Policy    ┆           ┆           ┆ name 8115 │\n",
       "│            ┆            ┆       ┆            ┆   ┆ with      ┆           ┆           ┆ 96193553  │\n",
       "│            ┆            ┆       ┆            ┆   ┆ domain    ┆           ┆           ┆ cannot be │\n",
       "│            ┆            ┆       ┆            ┆   ┆ name 8115 ┆           ┆           ┆ found.    │\n",
       "│            ┆            ┆       ┆            ┆   ┆ 96193553  ┆           ┆           ┆           │\n",
       "│            ┆            ┆       ┆            ┆   ┆ cann…     ┆           ┆           ┆           │\n",
       "│ arn:aws:ia ┆ arn:aws:ia ┆ 2     ┆ 2017-02-12 ┆ … ┆ GetAccoun ┆ GetAccoun ┆ console   ┆ null      │\n",
       "│ m::8115961 ┆ m::8115961 ┆       ┆ 19:59:10   ┆   ┆ tSummary  ┆ tSummary  ┆           ┆           │\n",
       "│ 93553:root ┆ 93553:root ┆       ┆ UTC        ┆   ┆           ┆           ┆           ┆           │\n",
       "│ __2017-02- ┆            ┆       ┆            ┆   ┆           ┆           ┆           ┆           │\n",
       "│ 12 19:57:0 ┆            ┆       ┆            ┆   ┆           ┆           ┆           ┆           │\n",
       "│ 6.000000   ┆            ┆       ┆            ┆   ┆           ┆           ┆           ┆           │\n",
       "│ arn:aws:ia ┆ arn:aws:ia ┆ 3     ┆ 2017-02-12 ┆ … ┆ ListAccou ┆ ListAccou ┆ console   ┆ null      │\n",
       "│ m::8115961 ┆ m::8115961 ┆       ┆ 19:59:10   ┆   ┆ ntAliases ┆ ntAliases ┆           ┆           │\n",
       "│ 93553:root ┆ 93553:root ┆       ┆ UTC        ┆   ┆           ┆           ┆           ┆           │\n",
       "│ __2017-02- ┆            ┆       ┆            ┆   ┆           ┆           ┆           ┆           │\n",
       "│ 12 19:57:0 ┆            ┆       ┆            ┆   ┆           ┆           ┆           ┆           │\n",
       "│ 6.000000   ┆            ┆       ┆            ┆   ┆           ┆           ┆           ┆           │\n",
       "│ …          ┆ …          ┆ …     ┆ …          ┆ … ┆ …         ┆ …         ┆ …         ┆ …         │\n",
       "│ source_ip: ┆ source_ip: ┆ 56    ┆ 2019-09-30 ┆ … ┆ AssumeRol ┆ AssumeRol ┆ support   ┆ null      │\n",
       "│ support.am ┆ support.am ┆       ┆ 09:24:37   ┆   ┆ e         ┆ e         ┆           ┆           │\n",
       "│ azonaws.co ┆ azonaws.co ┆       ┆ UTC        ┆   ┆           ┆           ┆           ┆           │\n",
       "│ m__2019-08 ┆ m          ┆       ┆            ┆   ┆           ┆           ┆           ┆           │\n",
       "│ -21 08:10: ┆            ┆       ┆            ┆   ┆           ┆           ┆           ┆           │\n",
       "│ 29.000000  ┆            ┆       ┆            ┆   ┆           ┆           ┆           ┆           │\n",
       "│ source_ip: ┆ source_ip: ┆ 57    ┆ 2019-09-30 ┆ … ┆ AssumeRol ┆ AssumeRol ┆ support   ┆ null      │\n",
       "│ support.am ┆ support.am ┆       ┆ 09:24:38   ┆   ┆ e         ┆ e         ┆           ┆           │\n",
       "│ azonaws.co ┆ azonaws.co ┆       ┆ UTC        ┆   ┆           ┆           ┆           ┆           │\n",
       "│ m__2019-08 ┆ m          ┆       ┆            ┆   ┆           ┆           ┆           ┆           │\n",
       "│ -21 08:10: ┆            ┆       ┆            ┆   ┆           ┆           ┆           ┆           │\n",
       "│ 29.000000  ┆            ┆       ┆            ┆   ┆           ┆           ┆           ┆           │\n",
       "│ source_ip: ┆ source_ip: ┆ 58    ┆ 2019-09-30 ┆ … ┆ AssumeRol ┆ AssumeRol ┆ support   ┆ null      │\n",
       "│ support.am ┆ support.am ┆       ┆ 09:24:38   ┆   ┆ e         ┆ e         ┆           ┆           │\n",
       "│ azonaws.co ┆ azonaws.co ┆       ┆ UTC        ┆   ┆           ┆           ┆           ┆           │\n",
       "│ m__2019-08 ┆ m          ┆       ┆            ┆   ┆           ┆           ┆           ┆           │\n",
       "│ -21 08:10: ┆            ┆       ┆            ┆   ┆           ┆           ┆           ┆           │\n",
       "│ 29.000000  ┆            ┆       ┆            ┆   ┆           ┆           ┆           ┆           │\n",
       "│ source_ip: ┆ source_ip: ┆ 59    ┆ 2019-09-30 ┆ … ┆ AssumeRol ┆ AssumeRol ┆ support   ┆ null      │\n",
       "│ support.am ┆ support.am ┆       ┆ 09:24:39   ┆   ┆ e         ┆ e         ┆           ┆           │\n",
       "│ azonaws.co ┆ azonaws.co ┆       ┆ UTC        ┆   ┆           ┆           ┆           ┆           │\n",
       "│ m__2019-08 ┆ m          ┆       ┆            ┆   ┆           ┆           ┆           ┆           │\n",
       "│ -21 08:10: ┆            ┆       ┆            ┆   ┆           ┆           ┆           ┆           │\n",
       "│ 29.000000  ┆            ┆       ┆            ┆   ┆           ┆           ┆           ┆           │\n",
       "└────────────┴────────────┴───────┴────────────┴───┴───────────┴───────────┴───────────┴───────────┘"
      ]
     },
     "execution_count": 28,
     "metadata": {},
     "output_type": "execute_result"
    }
   ],
   "source": [
    "DURATION = (\n",
    "    pl.col(\"eventTime\")\n",
    "    .dt.cast_time_unit(\"ms\")\n",
    "    .diff()\n",
    "    .mul(1 / 100)  # To seconds\n",
    "    .fill_null(0)\n",
    "    .cast(pl.Int32)\n",
    "    .over(\"entity_id\").alias(\"duration\")\n",
    ")\n",
    "LOG_FIELDS = [\n",
    "    \"eventName\",\n",
    "    (\n",
    "        pl.when(pl.col(\"userAgent\").str.to_lowercase().str.contains(\"s3\"))\n",
    "        .then(pl.lit(\"s3\"))\n",
    "        .otherwise(pl.col(\"userAgent\").str.split(\".\").list[0].str.replace_all(\"\\\\[\", \"\").str.replace_all(\"\\\\]\", \"\"))\n",
    "        .alias(\"aws_service\")\n",
    "    ),\n",
    "    \"errorMessage\"\n",
    "]\n",
    "LOG_FORMAT = (\n",
    "    pl.when(pl.col(\"errorMessage\").is_null())\n",
    "    .then(pl.col(\"eventName\"))\n",
    "    .otherwise(\n",
    "        pl.format(\n",
    "            \"{}: {}\",\n",
    "            pl.col(\"eventName\"),\n",
    "            pl.col(\"errorMessage\")\n",
    "        )\n",
    "    )\n",
    "    .alias(\"log\")\n",
    ")\n",
    "panel = (\n",
    "    data.select([\n",
    "        \"window_id\",\n",
    "        \"entity_id\",\n",
    "        \"index\",\n",
    "        \"eventTime\",\n",
    "        DURATION,\n",
    "        LOG_FORMAT,\n",
    "        *LOG_FIELDS,\n",
    "    ])\n",
    ")\n",
    "panel"
   ]
  },
  {
   "cell_type": "code",
   "execution_count": 29,
   "id": "0a2e7e83-2454-480d-9cf4-ca6579b3436e",
   "metadata": {},
   "outputs": [
    {
     "data": {
      "text/html": [
       "<div><style>\n",
       ".dataframe > thead > tr > th,\n",
       ".dataframe > tbody > tr > td {\n",
       "  text-align: right;\n",
       "  white-space: pre-wrap;\n",
       "}\n",
       "</style>\n",
       "<small>shape: (91,)</small><table border=\"1\" class=\"dataframe\"><thead><tr><th>aws_service</th></tr><tr><td>str</td></tr></thead><tbody><tr><td>null</td></tr><tr><td>&quot;&quot;</td></tr><tr><td>&quot;3Hub/1&quot;</td></tr><tr><td>&quot;APN/1&quot;</td></tr><tr><td>&quot;AWS Console Config, aws-internal/3&quot;</td></tr><tr><td>&quot;AWS Console Lambda, aws-internal/3&quot;</td></tr><tr><td>&quot;AWS Internal&quot;</td></tr><tr><td>&quot;AWS Organizations Console, aws-internal/3&quot;</td></tr><tr><td>&quot;AWS Organizations Console, aws-internal/3 aws-sdk-java/1&quot;</td></tr><tr><td>&quot;AWS-SupportCenterConsole, aws-internal/3&quot;</td></tr><tr><td>&quot;AWS-SupportCenterConsole, aws-internal/3 aws-sdk-java/1&quot;</td></tr><tr><td>&quot;AWS-Toolkit-For-JetBrains/1&quot;</td></tr><tr><td>&hellip;</td></tr><tr><td>&quot;ec2-frontend-api&quot;</td></tr><tr><td>&quot;eksctl/{&quot;BuiltAt&quot;:&quot;&quot;,&quot;GitTag&quot;:&quot;0&quot;</td></tr><tr><td>&quot;fms&quot;</td></tr><tr><td>&quot;git/2&quot;</td></tr><tr><td>&quot;lambda&quot;</td></tr><tr><td>&quot;lightsail&quot;</td></tr><tr><td>&quot;organizations&quot;</td></tr><tr><td>&quot;python-requests/2&quot;</td></tr><tr><td>&quot;rds&quot;</td></tr><tr><td>&quot;s3&quot;</td></tr><tr><td>&quot;signin&quot;</td></tr><tr><td>&quot;support&quot;</td></tr></tbody></table></div>"
      ],
      "text/plain": [
       "shape: (91,)\n",
       "Series: 'aws_service' [str]\n",
       "[\n",
       "\tnull\n",
       "\t\"\"\n",
       "\t\"3Hub/1\"\n",
       "\t\"APN/1\"\n",
       "\t\"AWS Console Config, aws-internal/3\"\n",
       "\t\"AWS Console Lambda, aws-internal/3\"\n",
       "\t\"AWS Internal\"\n",
       "\t\"AWS Organizations Console, aws-internal/3\"\n",
       "\t\"AWS Organizations Console, aws-internal/3 aws-sdk-java/1\"\n",
       "\t\"AWS-SupportCenterConsole, aws-internal/3\"\n",
       "\t\"AWS-SupportCenterConsole, aws-internal/3 aws-sdk-java/1\"\n",
       "\t\"AWS-Toolkit-For-JetBrains/1\"\n",
       "\t…\n",
       "\t\"ec2\"\n",
       "\t\"ec2-frontend-api\"\n",
       "\t\"eksctl/{\"BuiltAt\":\"\",\"GitTag\":\"0\"\n",
       "\t\"fms\"\n",
       "\t\"git/2\"\n",
       "\t\"lambda\"\n",
       "\t\"lightsail\"\n",
       "\t\"organizations\"\n",
       "\t\"python-requests/2\"\n",
       "\t\"rds\"\n",
       "\t\"s3\"\n",
       "\t\"signin\"\n",
       "\t\"support\"\n",
       "]"
      ]
     },
     "execution_count": 29,
     "metadata": {},
     "output_type": "execute_result"
    }
   ],
   "source": [
    "# Check AWS services\n",
    "panel.get_column(\"aws_service\").unique().sort()"
   ]
  },
  {
   "cell_type": "code",
   "execution_count": 30,
   "id": "77a8910f-c004-4a3b-86de-6ade03e49e8b",
   "metadata": {},
   "outputs": [],
   "source": [
    "# Export\n",
    "panel.write_parquet(\"../results/aws_flaws_2_panel.parquet\")"
   ]
  },
  {
   "cell_type": "markdown",
   "id": "53414e49-d4d2-4176-b34b-029fa4f91f2e",
   "metadata": {},
   "source": [
    "## Cleanup Resources"
   ]
  },
  {
   "cell_type": "code",
   "execution_count": 31,
   "id": "3aabef68-4500-4123-81c6-011f6418ba35",
   "metadata": {
    "scrolled": true
   },
   "outputs": [],
   "source": [
    "ray.shutdown()"
   ]
  }
 ],
 "metadata": {
  "kernelspec": {
   "display_name": "Python 3 (ipykernel)",
   "language": "python",
   "name": "python3"
  },
  "language_info": {
   "codemirror_mode": {
    "name": "ipython",
    "version": 3
   },
   "file_extension": ".py",
   "mimetype": "text/x-python",
   "name": "python",
   "nbconvert_exporter": "python",
   "pygments_lexer": "ipython3",
   "version": "3.11.6"
  }
 },
 "nbformat": 4,
 "nbformat_minor": 5
}
